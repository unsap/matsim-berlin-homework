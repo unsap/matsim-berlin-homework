{
 "cells": [
  {
   "cell_type": "code",
   "execution_count": 46,
   "id": "initial_id",
   "metadata": {
    "collapsed": true,
    "ExecuteTime": {
     "end_time": "2023-09-15T09:13:07.172314241Z",
     "start_time": "2023-09-15T09:13:06.606041398Z"
    }
   },
   "outputs": [],
   "source": [
    "%autoreload 2\n",
    "from pathlib import Path\n",
    "\n",
    "from generation import generate_agents_subpopulations, generate_agents_berlin_trips, berlinwise_col, \\\n",
    "    generate_nonberlin_trips, generate_trips_berlinwise\n",
    "from reader import read_agents, read_trips, read_trips_berlinwise, read_trips_additional\n",
    "from scenarios import BerlinScenario, SCENARIOS_PATH"
   ]
  },
  {
   "cell_type": "code",
   "execution_count": 3,
   "id": "4de103c58efb9b87",
   "metadata": {
    "collapsed": false,
    "ExecuteTime": {
     "end_time": "2023-09-14T12:46:55.273760069Z",
     "start_time": "2023-09-14T12:46:55.223632142Z"
    }
   },
   "outputs": [],
   "source": [
    "def path(scenario: BerlinScenario, kind, file_name_suffix) -> Path:\n",
    "    return SCENARIOS_PATH / scenario.value / kind / f\"{scenario}.{file_name_suffix}\""
   ]
  },
  {
   "cell_type": "markdown",
   "id": "7a0b374f",
   "metadata": {},
   "source": [
    "Read in input csv (both from MATSim output and from Java analysis)"
   ]
  },
  {
   "cell_type": "code",
   "execution_count": 4,
   "id": "7377a09382c6caac",
   "metadata": {
    "collapsed": false,
    "ExecuteTime": {
     "end_time": "2023-09-14T12:46:59.093824205Z",
     "start_time": "2023-09-14T12:46:57.514273313Z"
    }
   },
   "outputs": [
    {
     "data": {
      "text/plain": "                          executed_score   first_act_x   first_act_y  \\\nperson                                                                 \n10000001                       90.723000  4.603071e+06  5.705496e+06   \n1000001                       116.991525  4.655520e+06  5.752325e+06   \n100002101                      92.331500  4.628160e+06  5.828612e+06   \n100002901                      82.349915  4.628056e+06  5.830651e+06   \n100003501                     130.202918  4.625913e+06  5.824592e+06   \n...                                  ...           ...           ...   \nfreight_997_87464-berlin      117.274442  4.603503e+06  5.808240e+06   \nfreight_998_87464-berlin      116.469365  4.603503e+06  5.808240e+06   \nfreight_999_87464-berlin      118.242244  4.603503e+06  5.808240e+06   \nfreight_99_57921-berlin       113.625863  4.581024e+06  5.808486e+06   \nfreight_9_144245-berlin       108.153344  4.574147e+06  5.809461e+06   \n\n                         first_act_type  income subpopulation  \\\nperson                                                          \n10000001                   home_77400.0  2659.0        person   \n1000001                    home_91800.0   826.0        person   \n100002101                  home_36000.0   826.0        person   \n100002901                  home_48600.0  1847.0        person   \n100003501                  home_82200.0  1847.0        person   \n...                                 ...     ...           ...   \nfreight_997_87464-berlin        freight     NaN       freight   \nfreight_998_87464-berlin        freight     NaN       freight   \nfreight_999_87464-berlin        freight     NaN       freight   \nfreight_99_57921-berlin         freight     NaN       freight   \nfreight_9_144245-berlin         freight     NaN       freight   \n\n                         home-activity-zone  \nperson                                       \n10000001                        brandenburg  \n1000001                         brandenburg  \n100002101                       brandenburg  \n100002901                       brandenburg  \n100003501                       brandenburg  \n...                                     ...  \nfreight_997_87464-berlin                NaN  \nfreight_998_87464-berlin                NaN  \nfreight_999_87464-berlin                NaN  \nfreight_99_57921-berlin                 NaN  \nfreight_9_144245-berlin                 NaN  \n\n[494107 rows x 7 columns]",
      "text/html": "<div>\n<style scoped>\n    .dataframe tbody tr th:only-of-type {\n        vertical-align: middle;\n    }\n\n    .dataframe tbody tr th {\n        vertical-align: top;\n    }\n\n    .dataframe thead th {\n        text-align: right;\n    }\n</style>\n<table border=\"1\" class=\"dataframe\">\n  <thead>\n    <tr style=\"text-align: right;\">\n      <th></th>\n      <th>executed_score</th>\n      <th>first_act_x</th>\n      <th>first_act_y</th>\n      <th>first_act_type</th>\n      <th>income</th>\n      <th>subpopulation</th>\n      <th>home-activity-zone</th>\n    </tr>\n    <tr>\n      <th>person</th>\n      <th></th>\n      <th></th>\n      <th></th>\n      <th></th>\n      <th></th>\n      <th></th>\n      <th></th>\n    </tr>\n  </thead>\n  <tbody>\n    <tr>\n      <th>10000001</th>\n      <td>90.723000</td>\n      <td>4.603071e+06</td>\n      <td>5.705496e+06</td>\n      <td>home_77400.0</td>\n      <td>2659.0</td>\n      <td>person</td>\n      <td>brandenburg</td>\n    </tr>\n    <tr>\n      <th>1000001</th>\n      <td>116.991525</td>\n      <td>4.655520e+06</td>\n      <td>5.752325e+06</td>\n      <td>home_91800.0</td>\n      <td>826.0</td>\n      <td>person</td>\n      <td>brandenburg</td>\n    </tr>\n    <tr>\n      <th>100002101</th>\n      <td>92.331500</td>\n      <td>4.628160e+06</td>\n      <td>5.828612e+06</td>\n      <td>home_36000.0</td>\n      <td>826.0</td>\n      <td>person</td>\n      <td>brandenburg</td>\n    </tr>\n    <tr>\n      <th>100002901</th>\n      <td>82.349915</td>\n      <td>4.628056e+06</td>\n      <td>5.830651e+06</td>\n      <td>home_48600.0</td>\n      <td>1847.0</td>\n      <td>person</td>\n      <td>brandenburg</td>\n    </tr>\n    <tr>\n      <th>100003501</th>\n      <td>130.202918</td>\n      <td>4.625913e+06</td>\n      <td>5.824592e+06</td>\n      <td>home_82200.0</td>\n      <td>1847.0</td>\n      <td>person</td>\n      <td>brandenburg</td>\n    </tr>\n    <tr>\n      <th>...</th>\n      <td>...</td>\n      <td>...</td>\n      <td>...</td>\n      <td>...</td>\n      <td>...</td>\n      <td>...</td>\n      <td>...</td>\n    </tr>\n    <tr>\n      <th>freight_997_87464-berlin</th>\n      <td>117.274442</td>\n      <td>4.603503e+06</td>\n      <td>5.808240e+06</td>\n      <td>freight</td>\n      <td>NaN</td>\n      <td>freight</td>\n      <td>NaN</td>\n    </tr>\n    <tr>\n      <th>freight_998_87464-berlin</th>\n      <td>116.469365</td>\n      <td>4.603503e+06</td>\n      <td>5.808240e+06</td>\n      <td>freight</td>\n      <td>NaN</td>\n      <td>freight</td>\n      <td>NaN</td>\n    </tr>\n    <tr>\n      <th>freight_999_87464-berlin</th>\n      <td>118.242244</td>\n      <td>4.603503e+06</td>\n      <td>5.808240e+06</td>\n      <td>freight</td>\n      <td>NaN</td>\n      <td>freight</td>\n      <td>NaN</td>\n    </tr>\n    <tr>\n      <th>freight_99_57921-berlin</th>\n      <td>113.625863</td>\n      <td>4.581024e+06</td>\n      <td>5.808486e+06</td>\n      <td>freight</td>\n      <td>NaN</td>\n      <td>freight</td>\n      <td>NaN</td>\n    </tr>\n    <tr>\n      <th>freight_9_144245-berlin</th>\n      <td>108.153344</td>\n      <td>4.574147e+06</td>\n      <td>5.809461e+06</td>\n      <td>freight</td>\n      <td>NaN</td>\n      <td>freight</td>\n      <td>NaN</td>\n    </tr>\n  </tbody>\n</table>\n<p>494107 rows × 7 columns</p>\n</div>"
     },
     "execution_count": 4,
     "metadata": {},
     "output_type": "execute_result"
    }
   ],
   "source": [
    "agents = read_agents(path(BerlinScenario.BASE, \"output\", \"output_persons.csv.gz\"))\n",
    "agents"
   ]
  },
  {
   "cell_type": "code",
   "execution_count": 5,
   "id": "a8a93e83a675a6f2",
   "metadata": {
    "collapsed": false,
    "ExecuteTime": {
     "end_time": "2023-09-14T12:49:21.014816220Z",
     "start_time": "2023-09-14T12:47:01.600235819Z"
    }
   },
   "outputs": [
    {
     "data": {
      "text/plain": "                                              person  trip_number  dep_time  \\\ntrip_id                                                                       \n10000001_1                                  10000001            1  09:17:00   \n10000001_2                                  10000001            2  09:39:42   \n10000001_3                                  10000001            3  10:19:25   \n10000001_4                                  10000001            4  12:02:00   \n10000001_5                                  10000001            5  13:05:43   \n...                                              ...          ...       ...   \nfreight_997_87464-berlin_1  freight_997_87464-berlin            1  06:01:16   \nfreight_998_87464-berlin_1  freight_998_87464-berlin            1  10:58:14   \nfreight_999_87464-berlin_1  freight_999_87464-berlin            1  02:54:09   \nfreight_99_57921-berlin_1    freight_99_57921-berlin            1  10:55:18   \nfreight_9_144245-berlin_1    freight_9_144245-berlin            1  08:44:10   \n\n                           trav_time wait_time  traveled_distance  \\\ntrip_id                                                             \n10000001_1                  00:17:42  00:00:00               8050   \n10000001_2                  00:27:43  00:00:00              18437   \n10000001_3                  00:48:35  00:00:00              34241   \n10000001_4                  00:18:43  00:00:00              10508   \n10000001_5                  00:42:46  00:00:00              17661   \n...                              ...       ...                ...   \nfreight_997_87464-berlin_1  00:26:07  00:00:00              13893   \nfreight_998_87464-berlin_1  00:29:36  00:00:00              16478   \nfreight_999_87464-berlin_1  00:21:21  00:00:00              10876   \nfreight_99_57921-berlin_1   00:44:06  00:00:00              25247   \nfreight_9_144245-berlin_1   01:16:55  00:00:00              40867   \n\n                            euclidean_distance main_mode  \\\ntrip_id                                                    \n10000001_1                                6787       car   \n10000001_2                               13779       car   \n10000001_3                               24989       car   \n10000001_4                                5899       car   \n10000001_5                                9403       car   \n...                                        ...       ...   \nfreight_997_87464-berlin_1               10437   freight   \nfreight_998_87464-berlin_1               10720   freight   \nfreight_999_87464-berlin_1                7147   freight   \nfreight_99_57921-berlin_1                20207   freight   \nfreight_9_144245-berlin_1                35083   freight   \n\n                           longest_distance_mode              modes  ...  \\\ntrip_id                                                              ...   \n10000001_1                                   car      walk-car-walk  ...   \n10000001_2                                   car      walk-car-walk  ...   \n10000001_3                                   car      walk-car-walk  ...   \n10000001_4                                   car      walk-car-walk  ...   \n10000001_5                                   car      walk-car-walk  ...   \n...                                          ...                ...  ...   \nfreight_997_87464-berlin_1               freight  walk-freight-walk  ...   \nfreight_998_87464-berlin_1               freight  walk-freight-walk  ...   \nfreight_999_87464-berlin_1               freight  walk-freight-walk  ...   \nfreight_99_57921-berlin_1                freight  walk-freight-walk  ...   \nfreight_9_144245-berlin_1                freight  walk-freight-walk  ...   \n\n                           start_facility_id start_link       start_x  \\\ntrip_id                                                                 \n10000001_1                               NaN     144395  4.602586e+06   \n10000001_2                               NaN     134075  4.597352e+06   \n10000001_3                               NaN      77361  4.583822e+06   \n10000001_4                               NaN      31841  4.608361e+06   \n10000001_5                               NaN     144395  4.603071e+06   \n...                                      ...        ...           ...   \nfreight_997_87464-berlin_1               NaN      87167  4.603503e+06   \nfreight_998_87464-berlin_1               NaN      87167  4.603503e+06   \nfreight_999_87464-berlin_1               NaN      87167  4.603503e+06   \nfreight_99_57921-berlin_1                NaN      15237  4.581024e+06   \nfreight_9_144245-berlin_1                NaN      12739  4.574132e+06   \n\n                                 start_y  end_facility_id  end_link  \\\ntrip_id                                                               \n10000001_1                  5.705900e+06              NaN    134075   \n10000001_2                  5.710221e+06              NaN     77361   \n10000001_3                  5.712834e+06              NaN     31841   \n10000001_4                  5.708108e+06              NaN    144395   \n10000001_5                  5.705496e+06              NaN    106140   \n...                                  ...              ...       ...   \nfreight_997_87464-berlin_1  5.808240e+06              NaN     54169   \nfreight_998_87464-berlin_1  5.808240e+06              NaN     90464   \nfreight_999_87464-berlin_1  5.808240e+06              NaN     88992   \nfreight_99_57921-berlin_1   5.808486e+06              NaN       334   \nfreight_9_144245-berlin_1   5.809456e+06              NaN    144486   \n\n                                   end_x         end_y  \\\ntrip_id                                                  \n10000001_1                  4.597352e+06  5.710221e+06   \n10000001_2                  4.583822e+06  5.712834e+06   \n10000001_3                  4.608361e+06  5.708108e+06   \n10000001_4                  4.603071e+06  5.705496e+06   \n10000001_5                  4.609164e+06  5.698333e+06   \n...                                  ...           ...   \nfreight_997_87464-berlin_1  4.598759e+06  5.817537e+06   \nfreight_998_87464-berlin_1  4.593564e+06  5.812259e+06   \nfreight_999_87464-berlin_1  4.604471e+06  5.815321e+06   \nfreight_99_57921-berlin_1   4.595204e+06  5.822883e+06   \nfreight_9_144245-berlin_1   4.599966e+06  5.833193e+06   \n\n                            first_pt_boarding_stop  last_pt_egress_stop  \ntrip_id                                                                  \n10000001_1                                     NaN                  NaN  \n10000001_2                                     NaN                  NaN  \n10000001_3                                     NaN                  NaN  \n10000001_4                                     NaN                  NaN  \n10000001_5                                     NaN                  NaN  \n...                                            ...                  ...  \nfreight_997_87464-berlin_1                     NaN                  NaN  \nfreight_998_87464-berlin_1                     NaN                  NaN  \nfreight_999_87464-berlin_1                     NaN                  NaN  \nfreight_99_57921-berlin_1                      NaN                  NaN  \nfreight_9_144245-berlin_1                      NaN                  NaN  \n\n[1823248 rows x 22 columns]",
      "text/html": "<div>\n<style scoped>\n    .dataframe tbody tr th:only-of-type {\n        vertical-align: middle;\n    }\n\n    .dataframe tbody tr th {\n        vertical-align: top;\n    }\n\n    .dataframe thead th {\n        text-align: right;\n    }\n</style>\n<table border=\"1\" class=\"dataframe\">\n  <thead>\n    <tr style=\"text-align: right;\">\n      <th></th>\n      <th>person</th>\n      <th>trip_number</th>\n      <th>dep_time</th>\n      <th>trav_time</th>\n      <th>wait_time</th>\n      <th>traveled_distance</th>\n      <th>euclidean_distance</th>\n      <th>main_mode</th>\n      <th>longest_distance_mode</th>\n      <th>modes</th>\n      <th>...</th>\n      <th>start_facility_id</th>\n      <th>start_link</th>\n      <th>start_x</th>\n      <th>start_y</th>\n      <th>end_facility_id</th>\n      <th>end_link</th>\n      <th>end_x</th>\n      <th>end_y</th>\n      <th>first_pt_boarding_stop</th>\n      <th>last_pt_egress_stop</th>\n    </tr>\n    <tr>\n      <th>trip_id</th>\n      <th></th>\n      <th></th>\n      <th></th>\n      <th></th>\n      <th></th>\n      <th></th>\n      <th></th>\n      <th></th>\n      <th></th>\n      <th></th>\n      <th></th>\n      <th></th>\n      <th></th>\n      <th></th>\n      <th></th>\n      <th></th>\n      <th></th>\n      <th></th>\n      <th></th>\n      <th></th>\n      <th></th>\n    </tr>\n  </thead>\n  <tbody>\n    <tr>\n      <th>10000001_1</th>\n      <td>10000001</td>\n      <td>1</td>\n      <td>09:17:00</td>\n      <td>00:17:42</td>\n      <td>00:00:00</td>\n      <td>8050</td>\n      <td>6787</td>\n      <td>car</td>\n      <td>car</td>\n      <td>walk-car-walk</td>\n      <td>...</td>\n      <td>NaN</td>\n      <td>144395</td>\n      <td>4.602586e+06</td>\n      <td>5.705900e+06</td>\n      <td>NaN</td>\n      <td>134075</td>\n      <td>4.597352e+06</td>\n      <td>5.710221e+06</td>\n      <td>NaN</td>\n      <td>NaN</td>\n    </tr>\n    <tr>\n      <th>10000001_2</th>\n      <td>10000001</td>\n      <td>2</td>\n      <td>09:39:42</td>\n      <td>00:27:43</td>\n      <td>00:00:00</td>\n      <td>18437</td>\n      <td>13779</td>\n      <td>car</td>\n      <td>car</td>\n      <td>walk-car-walk</td>\n      <td>...</td>\n      <td>NaN</td>\n      <td>134075</td>\n      <td>4.597352e+06</td>\n      <td>5.710221e+06</td>\n      <td>NaN</td>\n      <td>77361</td>\n      <td>4.583822e+06</td>\n      <td>5.712834e+06</td>\n      <td>NaN</td>\n      <td>NaN</td>\n    </tr>\n    <tr>\n      <th>10000001_3</th>\n      <td>10000001</td>\n      <td>3</td>\n      <td>10:19:25</td>\n      <td>00:48:35</td>\n      <td>00:00:00</td>\n      <td>34241</td>\n      <td>24989</td>\n      <td>car</td>\n      <td>car</td>\n      <td>walk-car-walk</td>\n      <td>...</td>\n      <td>NaN</td>\n      <td>77361</td>\n      <td>4.583822e+06</td>\n      <td>5.712834e+06</td>\n      <td>NaN</td>\n      <td>31841</td>\n      <td>4.608361e+06</td>\n      <td>5.708108e+06</td>\n      <td>NaN</td>\n      <td>NaN</td>\n    </tr>\n    <tr>\n      <th>10000001_4</th>\n      <td>10000001</td>\n      <td>4</td>\n      <td>12:02:00</td>\n      <td>00:18:43</td>\n      <td>00:00:00</td>\n      <td>10508</td>\n      <td>5899</td>\n      <td>car</td>\n      <td>car</td>\n      <td>walk-car-walk</td>\n      <td>...</td>\n      <td>NaN</td>\n      <td>31841</td>\n      <td>4.608361e+06</td>\n      <td>5.708108e+06</td>\n      <td>NaN</td>\n      <td>144395</td>\n      <td>4.603071e+06</td>\n      <td>5.705496e+06</td>\n      <td>NaN</td>\n      <td>NaN</td>\n    </tr>\n    <tr>\n      <th>10000001_5</th>\n      <td>10000001</td>\n      <td>5</td>\n      <td>13:05:43</td>\n      <td>00:42:46</td>\n      <td>00:00:00</td>\n      <td>17661</td>\n      <td>9403</td>\n      <td>car</td>\n      <td>car</td>\n      <td>walk-car-walk</td>\n      <td>...</td>\n      <td>NaN</td>\n      <td>144395</td>\n      <td>4.603071e+06</td>\n      <td>5.705496e+06</td>\n      <td>NaN</td>\n      <td>106140</td>\n      <td>4.609164e+06</td>\n      <td>5.698333e+06</td>\n      <td>NaN</td>\n      <td>NaN</td>\n    </tr>\n    <tr>\n      <th>...</th>\n      <td>...</td>\n      <td>...</td>\n      <td>...</td>\n      <td>...</td>\n      <td>...</td>\n      <td>...</td>\n      <td>...</td>\n      <td>...</td>\n      <td>...</td>\n      <td>...</td>\n      <td>...</td>\n      <td>...</td>\n      <td>...</td>\n      <td>...</td>\n      <td>...</td>\n      <td>...</td>\n      <td>...</td>\n      <td>...</td>\n      <td>...</td>\n      <td>...</td>\n      <td>...</td>\n    </tr>\n    <tr>\n      <th>freight_997_87464-berlin_1</th>\n      <td>freight_997_87464-berlin</td>\n      <td>1</td>\n      <td>06:01:16</td>\n      <td>00:26:07</td>\n      <td>00:00:00</td>\n      <td>13893</td>\n      <td>10437</td>\n      <td>freight</td>\n      <td>freight</td>\n      <td>walk-freight-walk</td>\n      <td>...</td>\n      <td>NaN</td>\n      <td>87167</td>\n      <td>4.603503e+06</td>\n      <td>5.808240e+06</td>\n      <td>NaN</td>\n      <td>54169</td>\n      <td>4.598759e+06</td>\n      <td>5.817537e+06</td>\n      <td>NaN</td>\n      <td>NaN</td>\n    </tr>\n    <tr>\n      <th>freight_998_87464-berlin_1</th>\n      <td>freight_998_87464-berlin</td>\n      <td>1</td>\n      <td>10:58:14</td>\n      <td>00:29:36</td>\n      <td>00:00:00</td>\n      <td>16478</td>\n      <td>10720</td>\n      <td>freight</td>\n      <td>freight</td>\n      <td>walk-freight-walk</td>\n      <td>...</td>\n      <td>NaN</td>\n      <td>87167</td>\n      <td>4.603503e+06</td>\n      <td>5.808240e+06</td>\n      <td>NaN</td>\n      <td>90464</td>\n      <td>4.593564e+06</td>\n      <td>5.812259e+06</td>\n      <td>NaN</td>\n      <td>NaN</td>\n    </tr>\n    <tr>\n      <th>freight_999_87464-berlin_1</th>\n      <td>freight_999_87464-berlin</td>\n      <td>1</td>\n      <td>02:54:09</td>\n      <td>00:21:21</td>\n      <td>00:00:00</td>\n      <td>10876</td>\n      <td>7147</td>\n      <td>freight</td>\n      <td>freight</td>\n      <td>walk-freight-walk</td>\n      <td>...</td>\n      <td>NaN</td>\n      <td>87167</td>\n      <td>4.603503e+06</td>\n      <td>5.808240e+06</td>\n      <td>NaN</td>\n      <td>88992</td>\n      <td>4.604471e+06</td>\n      <td>5.815321e+06</td>\n      <td>NaN</td>\n      <td>NaN</td>\n    </tr>\n    <tr>\n      <th>freight_99_57921-berlin_1</th>\n      <td>freight_99_57921-berlin</td>\n      <td>1</td>\n      <td>10:55:18</td>\n      <td>00:44:06</td>\n      <td>00:00:00</td>\n      <td>25247</td>\n      <td>20207</td>\n      <td>freight</td>\n      <td>freight</td>\n      <td>walk-freight-walk</td>\n      <td>...</td>\n      <td>NaN</td>\n      <td>15237</td>\n      <td>4.581024e+06</td>\n      <td>5.808486e+06</td>\n      <td>NaN</td>\n      <td>334</td>\n      <td>4.595204e+06</td>\n      <td>5.822883e+06</td>\n      <td>NaN</td>\n      <td>NaN</td>\n    </tr>\n    <tr>\n      <th>freight_9_144245-berlin_1</th>\n      <td>freight_9_144245-berlin</td>\n      <td>1</td>\n      <td>08:44:10</td>\n      <td>01:16:55</td>\n      <td>00:00:00</td>\n      <td>40867</td>\n      <td>35083</td>\n      <td>freight</td>\n      <td>freight</td>\n      <td>walk-freight-walk</td>\n      <td>...</td>\n      <td>NaN</td>\n      <td>12739</td>\n      <td>4.574132e+06</td>\n      <td>5.809456e+06</td>\n      <td>NaN</td>\n      <td>144486</td>\n      <td>4.599966e+06</td>\n      <td>5.833193e+06</td>\n      <td>NaN</td>\n      <td>NaN</td>\n    </tr>\n  </tbody>\n</table>\n<p>1823248 rows × 22 columns</p>\n</div>"
     },
     "execution_count": 5,
     "metadata": {},
     "output_type": "execute_result"
    }
   ],
   "source": [
    "trips_by_scenario = {scenario: read_trips(path(BerlinScenario.BASE, \"output\", \"output_trips.csv.gz\")) for\n",
    "                     scenario in BerlinScenario}\n",
    "trips_by_scenario[BerlinScenario.BASE]"
   ]
  },
  {
   "cell_type": "code",
   "execution_count": 45,
   "outputs": [
    {
     "data": {
      "text/plain": "                                              person  trip_number  \\\ntrip_id                                                             \n10000001_1                                  10000001            1   \n10000001_2                                  10000001            2   \n10000001_3                                  10000001            3   \n10000001_4                                  10000001            4   \n10000001_5                                  10000001            5   \n...                                              ...          ...   \nfreight_997_87464-berlin_1  freight_997_87464-berlin            1   \nfreight_998_87464-berlin_1  freight_998_87464-berlin            1   \nfreight_999_87464-berlin_1  freight_999_87464-berlin            1   \nfreight_99_57921-berlin_1    freight_99_57921-berlin            1   \nfreight_9_144245-berlin_1    freight_9_144245-berlin            1   \n\n                                        modes start_link end_link  \\\ntrip_id                                                             \n10000001_1                      walk-car-walk     144395   134075   \n10000001_2                      walk-car-walk     134075    77361   \n10000001_3                      walk-car-walk      77361    31841   \n10000001_4                      walk-car-walk      31841   144395   \n10000001_5                      walk-car-walk     144395   106140   \n...                                       ...        ...      ...   \nfreight_997_87464-berlin_1  walk-freight-walk      87167    54169   \nfreight_998_87464-berlin_1  walk-freight-walk      87167    90464   \nfreight_999_87464-berlin_1  walk-freight-walk      87167    88992   \nfreight_99_57921-berlin_1   walk-freight-walk      15237      334   \nfreight_9_144245-berlin_1   walk-freight-walk      12739   144486   \n\n                             start_area  \\\ntrip_id                                   \n10000001_1                  brandenburg   \n10000001_2                  brandenburg   \n10000001_3                  brandenburg   \n10000001_4                  brandenburg   \n10000001_5                  brandenburg   \n...                                 ...   \nfreight_997_87464-berlin_1  brandenburg   \nfreight_998_87464-berlin_1  brandenburg   \nfreight_999_87464-berlin_1  brandenburg   \nfreight_99_57921-berlin_1   brandenburg   \nfreight_9_144245-berlin_1   brandenburg   \n\n                                                                visited_areas  \\\ntrip_id                                                                         \n10000001_1                                                        brandenburg   \n10000001_2                                                        brandenburg   \n10000001_3                                                        brandenburg   \n10000001_4                                                        brandenburg   \n10000001_5                                                        brandenburg   \n...                                                                       ...   \nfreight_997_87464-berlin_1  brandenburg,berlin_outside_umweltzone,berlin_u...   \nfreight_998_87464-berlin_1              brandenburg,berlin_outside_umweltzone   \nfreight_999_87464-berlin_1              brandenburg,berlin_outside_umweltzone   \nfreight_99_57921-berlin_1   brandenburg,berlin_outside_umweltzone,berlin_u...   \nfreight_9_144245-berlin_1               brandenburg,berlin_outside_umweltzone   \n\n                                             end_area  \ntrip_id                                                \n10000001_1                                brandenburg  \n10000001_2                                brandenburg  \n10000001_3                                brandenburg  \n10000001_4                                brandenburg  \n10000001_5                                brandenburg  \n...                                               ...  \nfreight_997_87464-berlin_1          berlin_umweltzone  \nfreight_998_87464-berlin_1  berlin_outside_umweltzone  \nfreight_999_87464-berlin_1  berlin_outside_umweltzone  \nfreight_99_57921-berlin_1           berlin_umweltzone  \nfreight_9_144245-berlin_1   berlin_outside_umweltzone  \n\n[1823772 rows x 8 columns]",
      "text/html": "<div>\n<style scoped>\n    .dataframe tbody tr th:only-of-type {\n        vertical-align: middle;\n    }\n\n    .dataframe tbody tr th {\n        vertical-align: top;\n    }\n\n    .dataframe thead th {\n        text-align: right;\n    }\n</style>\n<table border=\"1\" class=\"dataframe\">\n  <thead>\n    <tr style=\"text-align: right;\">\n      <th></th>\n      <th>person</th>\n      <th>trip_number</th>\n      <th>modes</th>\n      <th>start_link</th>\n      <th>end_link</th>\n      <th>start_area</th>\n      <th>visited_areas</th>\n      <th>end_area</th>\n    </tr>\n    <tr>\n      <th>trip_id</th>\n      <th></th>\n      <th></th>\n      <th></th>\n      <th></th>\n      <th></th>\n      <th></th>\n      <th></th>\n      <th></th>\n    </tr>\n  </thead>\n  <tbody>\n    <tr>\n      <th>10000001_1</th>\n      <td>10000001</td>\n      <td>1</td>\n      <td>walk-car-walk</td>\n      <td>144395</td>\n      <td>134075</td>\n      <td>brandenburg</td>\n      <td>brandenburg</td>\n      <td>brandenburg</td>\n    </tr>\n    <tr>\n      <th>10000001_2</th>\n      <td>10000001</td>\n      <td>2</td>\n      <td>walk-car-walk</td>\n      <td>134075</td>\n      <td>77361</td>\n      <td>brandenburg</td>\n      <td>brandenburg</td>\n      <td>brandenburg</td>\n    </tr>\n    <tr>\n      <th>10000001_3</th>\n      <td>10000001</td>\n      <td>3</td>\n      <td>walk-car-walk</td>\n      <td>77361</td>\n      <td>31841</td>\n      <td>brandenburg</td>\n      <td>brandenburg</td>\n      <td>brandenburg</td>\n    </tr>\n    <tr>\n      <th>10000001_4</th>\n      <td>10000001</td>\n      <td>4</td>\n      <td>walk-car-walk</td>\n      <td>31841</td>\n      <td>144395</td>\n      <td>brandenburg</td>\n      <td>brandenburg</td>\n      <td>brandenburg</td>\n    </tr>\n    <tr>\n      <th>10000001_5</th>\n      <td>10000001</td>\n      <td>5</td>\n      <td>walk-car-walk</td>\n      <td>144395</td>\n      <td>106140</td>\n      <td>brandenburg</td>\n      <td>brandenburg</td>\n      <td>brandenburg</td>\n    </tr>\n    <tr>\n      <th>...</th>\n      <td>...</td>\n      <td>...</td>\n      <td>...</td>\n      <td>...</td>\n      <td>...</td>\n      <td>...</td>\n      <td>...</td>\n      <td>...</td>\n    </tr>\n    <tr>\n      <th>freight_997_87464-berlin_1</th>\n      <td>freight_997_87464-berlin</td>\n      <td>1</td>\n      <td>walk-freight-walk</td>\n      <td>87167</td>\n      <td>54169</td>\n      <td>brandenburg</td>\n      <td>brandenburg,berlin_outside_umweltzone,berlin_u...</td>\n      <td>berlin_umweltzone</td>\n    </tr>\n    <tr>\n      <th>freight_998_87464-berlin_1</th>\n      <td>freight_998_87464-berlin</td>\n      <td>1</td>\n      <td>walk-freight-walk</td>\n      <td>87167</td>\n      <td>90464</td>\n      <td>brandenburg</td>\n      <td>brandenburg,berlin_outside_umweltzone</td>\n      <td>berlin_outside_umweltzone</td>\n    </tr>\n    <tr>\n      <th>freight_999_87464-berlin_1</th>\n      <td>freight_999_87464-berlin</td>\n      <td>1</td>\n      <td>walk-freight-walk</td>\n      <td>87167</td>\n      <td>88992</td>\n      <td>brandenburg</td>\n      <td>brandenburg,berlin_outside_umweltzone</td>\n      <td>berlin_outside_umweltzone</td>\n    </tr>\n    <tr>\n      <th>freight_99_57921-berlin_1</th>\n      <td>freight_99_57921-berlin</td>\n      <td>1</td>\n      <td>walk-freight-walk</td>\n      <td>15237</td>\n      <td>334</td>\n      <td>brandenburg</td>\n      <td>brandenburg,berlin_outside_umweltzone,berlin_u...</td>\n      <td>berlin_umweltzone</td>\n    </tr>\n    <tr>\n      <th>freight_9_144245-berlin_1</th>\n      <td>freight_9_144245-berlin</td>\n      <td>1</td>\n      <td>walk-freight-walk</td>\n      <td>12739</td>\n      <td>144486</td>\n      <td>brandenburg</td>\n      <td>brandenburg,berlin_outside_umweltzone</td>\n      <td>berlin_outside_umweltzone</td>\n    </tr>\n  </tbody>\n</table>\n<p>1823772 rows × 8 columns</p>\n</div>"
     },
     "execution_count": 45,
     "metadata": {},
     "output_type": "execute_result"
    }
   ],
   "source": [
    "trips_berlinwise_by_scenario = {scenario: read_trips_berlinwise(path(scenario, \"analysis\", \"trips_berlinwise.csv\")) for\n",
    "                                scenario in BerlinScenario}\n",
    "trips_berlinwise_by_scenario[BerlinScenario.BASE]"
   ],
   "metadata": {
    "collapsed": false,
    "ExecuteTime": {
     "end_time": "2023-09-15T09:06:20.771323452Z",
     "start_time": "2023-09-15T09:04:41.892321828Z"
    }
   },
   "id": "d37bc5bf778b268a"
  },
  {
   "cell_type": "code",
   "execution_count": null,
   "outputs": [],
   "source": [
    "trips_additional_by_scenario = {scenario: read_trips_additional(path(scenario, \"analysis\", \"trips_additional.csv\")) for\n",
    "                                scenario in BerlinScenario}\n",
    "trips_additional_by_scenario[BerlinScenario.BASE]"
   ],
   "metadata": {
    "collapsed": false
   },
   "id": "81ce9a6c765d7430"
  },
  {
   "cell_type": "code",
   "execution_count": 48,
   "outputs": [
    {
     "data": {
      "text/plain": "                                                                        person  \\\ntrip_id                                                                          \n10000001_1                                                            10000001   \n10000001_2                                                            10000001   \n10000001_3                                                            10000001   \n10000001_4                                                            10000001   \n10000001_5                                                            10000001   \n...                                                                        ...   \npt_pt_X9---17528_700_9_3_Bus_veh_type_1  pt_pt_X9---17528_700_9_3_Bus_veh_type   \npt_pt_X9---17528_700_9_4_Bus_veh_type_1  pt_pt_X9---17528_700_9_4_Bus_veh_type   \npt_pt_X9---17528_700_9_5_Bus_veh_type_1  pt_pt_X9---17528_700_9_5_Bus_veh_type   \npt_pt_X9---17528_700_9_6_Bus_veh_type_1  pt_pt_X9---17528_700_9_6_Bus_veh_type   \npt_pt_X9---17528_700_9_7_Bus_veh_type_1  pt_pt_X9---17528_700_9_7_Bus_veh_type   \n\n                                         trip_number          modes last_link  \\\ntrip_id                                                                         \n10000001_1                                         1  walk-car-walk    134075   \n10000001_2                                         2  walk-car-walk     77361   \n10000001_3                                         3  walk-car-walk     31841   \n10000001_4                                         4  walk-car-walk    144395   \n10000001_5                                         5  walk-car-walk    106140   \n...                                              ...            ...       ...   \npt_pt_X9---17528_700_9_3_Bus_veh_type_1            1            car  pt_43894   \npt_pt_X9---17528_700_9_4_Bus_veh_type_1            1            car  pt_43894   \npt_pt_X9---17528_700_9_5_Bus_veh_type_1            1            car  pt_43894   \npt_pt_X9---17528_700_9_6_Bus_veh_type_1            1            car  pt_43894   \npt_pt_X9---17528_700_9_7_Bus_veh_type_1            1            car  pt_43894   \n\n                                                         last_area  completed  \\\ntrip_id                                                                         \n10000001_1                                             brandenburg       True   \n10000001_2                                             brandenburg       True   \n10000001_3                                             brandenburg       True   \n10000001_4                                             brandenburg       True   \n10000001_5                                             brandenburg       True   \n...                                                            ...        ...   \npt_pt_X9---17528_700_9_3_Bus_veh_type_1  berlin_outside_umweltzone      False   \npt_pt_X9---17528_700_9_4_Bus_veh_type_1  berlin_outside_umweltzone      False   \npt_pt_X9---17528_700_9_5_Bus_veh_type_1  berlin_outside_umweltzone      False   \npt_pt_X9---17528_700_9_6_Bus_veh_type_1  berlin_outside_umweltzone      False   \npt_pt_X9---17528_700_9_7_Bus_veh_type_1  berlin_outside_umweltzone      False   \n\n                                         visited_link_count  \\\ntrip_id                                                       \n10000001_1                                               25   \n10000001_2                                               57   \n10000001_3                                              107   \n10000001_4                                               28   \n10000001_5                                               63   \n...                                                     ...   \npt_pt_X9---17528_700_9_3_Bus_veh_type_1                   8   \npt_pt_X9---17528_700_9_4_Bus_veh_type_1                   8   \npt_pt_X9---17528_700_9_5_Bus_veh_type_1                   8   \npt_pt_X9---17528_700_9_6_Bus_veh_type_1                   8   \npt_pt_X9---17528_700_9_7_Bus_veh_type_1                   8   \n\n                                         car_berlin_a_main_street  \\\ntrip_id                                                             \n10000001_1                                                    0.0   \n10000001_2                                                    0.0   \n10000001_3                                                    0.0   \n10000001_4                                                    0.0   \n10000001_5                                                    0.0   \n...                                                           ...   \npt_pt_X9---17528_700_9_3_Bus_veh_type_1                       0.0   \npt_pt_X9---17528_700_9_4_Bus_veh_type_1                       0.0   \npt_pt_X9---17528_700_9_5_Bus_veh_type_1                       0.0   \npt_pt_X9---17528_700_9_6_Bus_veh_type_1                       0.0   \npt_pt_X9---17528_700_9_7_Bus_veh_type_1                       0.0   \n\n                                         car_berlin_a_side_street  \\\ntrip_id                                                             \n10000001_1                                                    0.0   \n10000001_2                                                    0.0   \n10000001_3                                                    0.0   \n10000001_4                                                    0.0   \n10000001_5                                                    0.0   \n...                                                           ...   \npt_pt_X9---17528_700_9_3_Bus_veh_type_1                       0.0   \npt_pt_X9---17528_700_9_4_Bus_veh_type_1                       0.0   \npt_pt_X9---17528_700_9_5_Bus_veh_type_1                       0.0   \npt_pt_X9---17528_700_9_6_Bus_veh_type_1                       0.0   \npt_pt_X9---17528_700_9_7_Bus_veh_type_1                       0.0   \n\n                                         car_berlin_a_other_street  \\\ntrip_id                                                              \n10000001_1                                                     0.0   \n10000001_2                                                     0.0   \n10000001_3                                                     0.0   \n10000001_4                                                     0.0   \n10000001_5                                                     0.0   \n...                                                            ...   \npt_pt_X9---17528_700_9_3_Bus_veh_type_1                     3839.3   \npt_pt_X9---17528_700_9_4_Bus_veh_type_1                     3839.3   \npt_pt_X9---17528_700_9_5_Bus_veh_type_1                     3839.3   \npt_pt_X9---17528_700_9_6_Bus_veh_type_1                     3839.3   \npt_pt_X9---17528_700_9_7_Bus_veh_type_1                     3839.3   \n\n                                         car_berlin_b_main_street  \\\ntrip_id                                                             \n10000001_1                                                    0.0   \n10000001_2                                                    0.0   \n10000001_3                                                    0.0   \n10000001_4                                                    0.0   \n10000001_5                                                    0.0   \n...                                                           ...   \npt_pt_X9---17528_700_9_3_Bus_veh_type_1                       0.0   \npt_pt_X9---17528_700_9_4_Bus_veh_type_1                       0.0   \npt_pt_X9---17528_700_9_5_Bus_veh_type_1                       0.0   \npt_pt_X9---17528_700_9_6_Bus_veh_type_1                       0.0   \npt_pt_X9---17528_700_9_7_Bus_veh_type_1                       0.0   \n\n                                         car_berlin_b_side_street  \\\ntrip_id                                                             \n10000001_1                                                    0.0   \n10000001_2                                                    0.0   \n10000001_3                                                    0.0   \n10000001_4                                                    0.0   \n10000001_5                                                    0.0   \n...                                                           ...   \npt_pt_X9---17528_700_9_3_Bus_veh_type_1                       0.0   \npt_pt_X9---17528_700_9_4_Bus_veh_type_1                       0.0   \npt_pt_X9---17528_700_9_5_Bus_veh_type_1                       0.0   \npt_pt_X9---17528_700_9_6_Bus_veh_type_1                       0.0   \npt_pt_X9---17528_700_9_7_Bus_veh_type_1                       0.0   \n\n                                         car_berlin_b_other_street  \\\ntrip_id                                                              \n10000001_1                                                     0.0   \n10000001_2                                                     0.0   \n10000001_3                                                     0.0   \n10000001_4                                                     0.0   \n10000001_5                                                     0.0   \n...                                                            ...   \npt_pt_X9---17528_700_9_3_Bus_veh_type_1                     2797.2   \npt_pt_X9---17528_700_9_4_Bus_veh_type_1                     2797.2   \npt_pt_X9---17528_700_9_5_Bus_veh_type_1                     2797.2   \npt_pt_X9---17528_700_9_6_Bus_veh_type_1                     2797.2   \npt_pt_X9---17528_700_9_7_Bus_veh_type_1                     2797.2   \n\n                                         car_brandenburg  pt_berlin_a  \\\ntrip_id                                                                 \n10000001_1                                        7483.4          0.0   \n10000001_2                                       17849.9          0.0   \n10000001_3                                       33989.1          0.0   \n10000001_4                                       10275.9          0.0   \n10000001_5                                       16777.4          0.0   \n...                                                  ...          ...   \npt_pt_X9---17528_700_9_3_Bus_veh_type_1              0.0          0.0   \npt_pt_X9---17528_700_9_4_Bus_veh_type_1              0.0          0.0   \npt_pt_X9---17528_700_9_5_Bus_veh_type_1              0.0          0.0   \npt_pt_X9---17528_700_9_6_Bus_veh_type_1              0.0          0.0   \npt_pt_X9---17528_700_9_7_Bus_veh_type_1              0.0          0.0   \n\n                                         pt_berlin_b  pt_brandenburg  \ntrip_id                                                               \n10000001_1                                       0.0             0.0  \n10000001_2                                       0.0             0.0  \n10000001_3                                       0.0             0.0  \n10000001_4                                       0.0             0.0  \n10000001_5                                       0.0             0.0  \n...                                              ...             ...  \npt_pt_X9---17528_700_9_3_Bus_veh_type_1          0.0             0.0  \npt_pt_X9---17528_700_9_4_Bus_veh_type_1          0.0             0.0  \npt_pt_X9---17528_700_9_5_Bus_veh_type_1          0.0             0.0  \npt_pt_X9---17528_700_9_6_Bus_veh_type_1          0.0             0.0  \npt_pt_X9---17528_700_9_7_Bus_veh_type_1          0.0             0.0  \n\n[1895772 rows x 17 columns]",
      "text/html": "<div>\n<style scoped>\n    .dataframe tbody tr th:only-of-type {\n        vertical-align: middle;\n    }\n\n    .dataframe tbody tr th {\n        vertical-align: top;\n    }\n\n    .dataframe thead th {\n        text-align: right;\n    }\n</style>\n<table border=\"1\" class=\"dataframe\">\n  <thead>\n    <tr style=\"text-align: right;\">\n      <th></th>\n      <th>person</th>\n      <th>trip_number</th>\n      <th>modes</th>\n      <th>last_link</th>\n      <th>last_area</th>\n      <th>completed</th>\n      <th>visited_link_count</th>\n      <th>car_berlin_a_main_street</th>\n      <th>car_berlin_a_side_street</th>\n      <th>car_berlin_a_other_street</th>\n      <th>car_berlin_b_main_street</th>\n      <th>car_berlin_b_side_street</th>\n      <th>car_berlin_b_other_street</th>\n      <th>car_brandenburg</th>\n      <th>pt_berlin_a</th>\n      <th>pt_berlin_b</th>\n      <th>pt_brandenburg</th>\n    </tr>\n    <tr>\n      <th>trip_id</th>\n      <th></th>\n      <th></th>\n      <th></th>\n      <th></th>\n      <th></th>\n      <th></th>\n      <th></th>\n      <th></th>\n      <th></th>\n      <th></th>\n      <th></th>\n      <th></th>\n      <th></th>\n      <th></th>\n      <th></th>\n      <th></th>\n      <th></th>\n    </tr>\n  </thead>\n  <tbody>\n    <tr>\n      <th>10000001_1</th>\n      <td>10000001</td>\n      <td>1</td>\n      <td>walk-car-walk</td>\n      <td>134075</td>\n      <td>brandenburg</td>\n      <td>True</td>\n      <td>25</td>\n      <td>0.0</td>\n      <td>0.0</td>\n      <td>0.0</td>\n      <td>0.0</td>\n      <td>0.0</td>\n      <td>0.0</td>\n      <td>7483.4</td>\n      <td>0.0</td>\n      <td>0.0</td>\n      <td>0.0</td>\n    </tr>\n    <tr>\n      <th>10000001_2</th>\n      <td>10000001</td>\n      <td>2</td>\n      <td>walk-car-walk</td>\n      <td>77361</td>\n      <td>brandenburg</td>\n      <td>True</td>\n      <td>57</td>\n      <td>0.0</td>\n      <td>0.0</td>\n      <td>0.0</td>\n      <td>0.0</td>\n      <td>0.0</td>\n      <td>0.0</td>\n      <td>17849.9</td>\n      <td>0.0</td>\n      <td>0.0</td>\n      <td>0.0</td>\n    </tr>\n    <tr>\n      <th>10000001_3</th>\n      <td>10000001</td>\n      <td>3</td>\n      <td>walk-car-walk</td>\n      <td>31841</td>\n      <td>brandenburg</td>\n      <td>True</td>\n      <td>107</td>\n      <td>0.0</td>\n      <td>0.0</td>\n      <td>0.0</td>\n      <td>0.0</td>\n      <td>0.0</td>\n      <td>0.0</td>\n      <td>33989.1</td>\n      <td>0.0</td>\n      <td>0.0</td>\n      <td>0.0</td>\n    </tr>\n    <tr>\n      <th>10000001_4</th>\n      <td>10000001</td>\n      <td>4</td>\n      <td>walk-car-walk</td>\n      <td>144395</td>\n      <td>brandenburg</td>\n      <td>True</td>\n      <td>28</td>\n      <td>0.0</td>\n      <td>0.0</td>\n      <td>0.0</td>\n      <td>0.0</td>\n      <td>0.0</td>\n      <td>0.0</td>\n      <td>10275.9</td>\n      <td>0.0</td>\n      <td>0.0</td>\n      <td>0.0</td>\n    </tr>\n    <tr>\n      <th>10000001_5</th>\n      <td>10000001</td>\n      <td>5</td>\n      <td>walk-car-walk</td>\n      <td>106140</td>\n      <td>brandenburg</td>\n      <td>True</td>\n      <td>63</td>\n      <td>0.0</td>\n      <td>0.0</td>\n      <td>0.0</td>\n      <td>0.0</td>\n      <td>0.0</td>\n      <td>0.0</td>\n      <td>16777.4</td>\n      <td>0.0</td>\n      <td>0.0</td>\n      <td>0.0</td>\n    </tr>\n    <tr>\n      <th>...</th>\n      <td>...</td>\n      <td>...</td>\n      <td>...</td>\n      <td>...</td>\n      <td>...</td>\n      <td>...</td>\n      <td>...</td>\n      <td>...</td>\n      <td>...</td>\n      <td>...</td>\n      <td>...</td>\n      <td>...</td>\n      <td>...</td>\n      <td>...</td>\n      <td>...</td>\n      <td>...</td>\n      <td>...</td>\n    </tr>\n    <tr>\n      <th>pt_pt_X9---17528_700_9_3_Bus_veh_type_1</th>\n      <td>pt_pt_X9---17528_700_9_3_Bus_veh_type</td>\n      <td>1</td>\n      <td>car</td>\n      <td>pt_43894</td>\n      <td>berlin_outside_umweltzone</td>\n      <td>False</td>\n      <td>8</td>\n      <td>0.0</td>\n      <td>0.0</td>\n      <td>3839.3</td>\n      <td>0.0</td>\n      <td>0.0</td>\n      <td>2797.2</td>\n      <td>0.0</td>\n      <td>0.0</td>\n      <td>0.0</td>\n      <td>0.0</td>\n    </tr>\n    <tr>\n      <th>pt_pt_X9---17528_700_9_4_Bus_veh_type_1</th>\n      <td>pt_pt_X9---17528_700_9_4_Bus_veh_type</td>\n      <td>1</td>\n      <td>car</td>\n      <td>pt_43894</td>\n      <td>berlin_outside_umweltzone</td>\n      <td>False</td>\n      <td>8</td>\n      <td>0.0</td>\n      <td>0.0</td>\n      <td>3839.3</td>\n      <td>0.0</td>\n      <td>0.0</td>\n      <td>2797.2</td>\n      <td>0.0</td>\n      <td>0.0</td>\n      <td>0.0</td>\n      <td>0.0</td>\n    </tr>\n    <tr>\n      <th>pt_pt_X9---17528_700_9_5_Bus_veh_type_1</th>\n      <td>pt_pt_X9---17528_700_9_5_Bus_veh_type</td>\n      <td>1</td>\n      <td>car</td>\n      <td>pt_43894</td>\n      <td>berlin_outside_umweltzone</td>\n      <td>False</td>\n      <td>8</td>\n      <td>0.0</td>\n      <td>0.0</td>\n      <td>3839.3</td>\n      <td>0.0</td>\n      <td>0.0</td>\n      <td>2797.2</td>\n      <td>0.0</td>\n      <td>0.0</td>\n      <td>0.0</td>\n      <td>0.0</td>\n    </tr>\n    <tr>\n      <th>pt_pt_X9---17528_700_9_6_Bus_veh_type_1</th>\n      <td>pt_pt_X9---17528_700_9_6_Bus_veh_type</td>\n      <td>1</td>\n      <td>car</td>\n      <td>pt_43894</td>\n      <td>berlin_outside_umweltzone</td>\n      <td>False</td>\n      <td>8</td>\n      <td>0.0</td>\n      <td>0.0</td>\n      <td>3839.3</td>\n      <td>0.0</td>\n      <td>0.0</td>\n      <td>2797.2</td>\n      <td>0.0</td>\n      <td>0.0</td>\n      <td>0.0</td>\n      <td>0.0</td>\n    </tr>\n    <tr>\n      <th>pt_pt_X9---17528_700_9_7_Bus_veh_type_1</th>\n      <td>pt_pt_X9---17528_700_9_7_Bus_veh_type</td>\n      <td>1</td>\n      <td>car</td>\n      <td>pt_43894</td>\n      <td>berlin_outside_umweltzone</td>\n      <td>False</td>\n      <td>8</td>\n      <td>0.0</td>\n      <td>0.0</td>\n      <td>3839.3</td>\n      <td>0.0</td>\n      <td>0.0</td>\n      <td>2797.2</td>\n      <td>0.0</td>\n      <td>0.0</td>\n      <td>0.0</td>\n      <td>0.0</td>\n    </tr>\n  </tbody>\n</table>\n<p>1895772 rows × 17 columns</p>\n</div>"
     },
     "execution_count": 48,
     "metadata": {},
     "output_type": "execute_result"
    }
   ],
   "source": [
    "read_trips_additional(path(BerlinScenario.BASE, \"analysis\", \"trips_additional.csv\"))"
   ],
   "metadata": {
    "collapsed": false,
    "ExecuteTime": {
     "end_time": "2023-09-15T09:13:58.706898252Z",
     "start_time": "2023-09-15T09:13:45.919752370Z"
    }
   },
   "id": "d16de1439dee1ebe"
  },
  {
   "cell_type": "markdown",
   "id": "58a7bae5",
   "metadata": {},
   "source": [
    "Generate temporary files that split the population into relevant, freight and ride"
   ]
  },
  {
   "cell_type": "code",
   "execution_count": 6,
   "id": "2985cfe0f18d9abf",
   "metadata": {
    "collapsed": false,
    "ExecuteTime": {
     "end_time": "2023-09-14T20:08:02.515313354Z",
     "start_time": "2023-09-14T20:07:28.471080671Z"
    }
   },
   "outputs": [
    {
     "data": {
      "text/plain": "           executed_score   first_act_x   first_act_y first_act_type  income  \\\nperson                                                                         \n10000001        90.723000  4.603071e+06  5.705496e+06   home_77400.0  2659.0   \n1000001        116.991525  4.655520e+06  5.752325e+06   home_91800.0   826.0   \n100002101       92.331500  4.628160e+06  5.828612e+06   home_36000.0   826.0   \n100002901       82.349915  4.628056e+06  5.830651e+06   home_48600.0  1847.0   \n100004901      110.151148  4.625238e+06  5.824173e+06   home_54600.0  2070.0   \n...                   ...           ...           ...            ...     ...   \n99994101        95.497982  4.632244e+06  5.826463e+06   home_60600.0  4329.0   \n99995401       117.394194  4.631520e+06  5.826864e+06   home_83400.0  1142.0   \n99995901       132.648340  4.627167e+06  5.827323e+06   home_77400.0  2332.0   \n99996201       109.114665  4.628290e+06  5.829095e+06   home_62400.0  1630.0   \n99998601       132.314759  4.624512e+06  5.823676e+06   home_93600.0  2332.0   \n\n          subpopulation home-activity-zone       main_modes  \nperson                                                       \n10000001         person        brandenburg            {car}  \n1000001          person        brandenburg        {bicycle}  \n100002101        person        brandenburg        {bicycle}  \n100002901        person        brandenburg            {car}  \n100004901        person        brandenburg            {car}  \n...                 ...                ...              ...  \n99994101         person        brandenburg        {bicycle}  \n99995401         person        brandenburg        {bicycle}  \n99995901         person        brandenburg  {walk, bicycle}  \n99996201         person        brandenburg            {car}  \n99998601         person        brandenburg       {pt, walk}  \n\n[408681 rows x 8 columns]",
      "text/html": "<div>\n<style scoped>\n    .dataframe tbody tr th:only-of-type {\n        vertical-align: middle;\n    }\n\n    .dataframe tbody tr th {\n        vertical-align: top;\n    }\n\n    .dataframe thead th {\n        text-align: right;\n    }\n</style>\n<table border=\"1\" class=\"dataframe\">\n  <thead>\n    <tr style=\"text-align: right;\">\n      <th></th>\n      <th>executed_score</th>\n      <th>first_act_x</th>\n      <th>first_act_y</th>\n      <th>first_act_type</th>\n      <th>income</th>\n      <th>subpopulation</th>\n      <th>home-activity-zone</th>\n      <th>main_modes</th>\n    </tr>\n    <tr>\n      <th>person</th>\n      <th></th>\n      <th></th>\n      <th></th>\n      <th></th>\n      <th></th>\n      <th></th>\n      <th></th>\n      <th></th>\n    </tr>\n  </thead>\n  <tbody>\n    <tr>\n      <th>10000001</th>\n      <td>90.723000</td>\n      <td>4.603071e+06</td>\n      <td>5.705496e+06</td>\n      <td>home_77400.0</td>\n      <td>2659.0</td>\n      <td>person</td>\n      <td>brandenburg</td>\n      <td>{car}</td>\n    </tr>\n    <tr>\n      <th>1000001</th>\n      <td>116.991525</td>\n      <td>4.655520e+06</td>\n      <td>5.752325e+06</td>\n      <td>home_91800.0</td>\n      <td>826.0</td>\n      <td>person</td>\n      <td>brandenburg</td>\n      <td>{bicycle}</td>\n    </tr>\n    <tr>\n      <th>100002101</th>\n      <td>92.331500</td>\n      <td>4.628160e+06</td>\n      <td>5.828612e+06</td>\n      <td>home_36000.0</td>\n      <td>826.0</td>\n      <td>person</td>\n      <td>brandenburg</td>\n      <td>{bicycle}</td>\n    </tr>\n    <tr>\n      <th>100002901</th>\n      <td>82.349915</td>\n      <td>4.628056e+06</td>\n      <td>5.830651e+06</td>\n      <td>home_48600.0</td>\n      <td>1847.0</td>\n      <td>person</td>\n      <td>brandenburg</td>\n      <td>{car}</td>\n    </tr>\n    <tr>\n      <th>100004901</th>\n      <td>110.151148</td>\n      <td>4.625238e+06</td>\n      <td>5.824173e+06</td>\n      <td>home_54600.0</td>\n      <td>2070.0</td>\n      <td>person</td>\n      <td>brandenburg</td>\n      <td>{car}</td>\n    </tr>\n    <tr>\n      <th>...</th>\n      <td>...</td>\n      <td>...</td>\n      <td>...</td>\n      <td>...</td>\n      <td>...</td>\n      <td>...</td>\n      <td>...</td>\n      <td>...</td>\n    </tr>\n    <tr>\n      <th>99994101</th>\n      <td>95.497982</td>\n      <td>4.632244e+06</td>\n      <td>5.826463e+06</td>\n      <td>home_60600.0</td>\n      <td>4329.0</td>\n      <td>person</td>\n      <td>brandenburg</td>\n      <td>{bicycle}</td>\n    </tr>\n    <tr>\n      <th>99995401</th>\n      <td>117.394194</td>\n      <td>4.631520e+06</td>\n      <td>5.826864e+06</td>\n      <td>home_83400.0</td>\n      <td>1142.0</td>\n      <td>person</td>\n      <td>brandenburg</td>\n      <td>{bicycle}</td>\n    </tr>\n    <tr>\n      <th>99995901</th>\n      <td>132.648340</td>\n      <td>4.627167e+06</td>\n      <td>5.827323e+06</td>\n      <td>home_77400.0</td>\n      <td>2332.0</td>\n      <td>person</td>\n      <td>brandenburg</td>\n      <td>{walk, bicycle}</td>\n    </tr>\n    <tr>\n      <th>99996201</th>\n      <td>109.114665</td>\n      <td>4.628290e+06</td>\n      <td>5.829095e+06</td>\n      <td>home_62400.0</td>\n      <td>1630.0</td>\n      <td>person</td>\n      <td>brandenburg</td>\n      <td>{car}</td>\n    </tr>\n    <tr>\n      <th>99998601</th>\n      <td>132.314759</td>\n      <td>4.624512e+06</td>\n      <td>5.823676e+06</td>\n      <td>home_93600.0</td>\n      <td>2332.0</td>\n      <td>person</td>\n      <td>brandenburg</td>\n      <td>{pt, walk}</td>\n    </tr>\n  </tbody>\n</table>\n<p>408681 rows × 8 columns</p>\n</div>"
     },
     "execution_count": 6,
     "metadata": {},
     "output_type": "execute_result"
    }
   ],
   "source": [
    "agent_subpopulations = generate_agents_subpopulations(agents, trips_by_scenario[BerlinScenario.BASE])\n",
    "agent_subpopulations.relevant.to_csv(path(BerlinScenario.BASE, \"analysis\", \"relevant_persons.csv\"), sep=\";\")\n",
    "agent_subpopulations.freight.to_csv(path(BerlinScenario.BASE, \"analysis\", \"freight_persons.csv\"), sep=\";\")\n",
    "agent_subpopulations.ride.to_csv(path(BerlinScenario.BASE, \"analysis\", \"ride_persons.csv\"), sep=\";\")\n",
    "agent_subpopulations.relevant"
   ]
  },
  {
   "cell_type": "markdown",
   "id": "3e120611747a6dd3",
   "metadata": {
    "collapsed": false
   },
   "source": [
    "Lists trips which are different in values of `modes`, `start_link` or `end_link`, even though it should be equal in our understanding"
   ]
  },
  {
   "cell_type": "code",
   "execution_count": 13,
   "id": "7bc450791e763442",
   "metadata": {
    "collapsed": false,
    "ExecuteTime": {
     "end_time": "2023-09-14T20:37:33.367105796Z",
     "start_time": "2023-09-14T20:37:21.176923112Z"
    }
   },
   "outputs": [
    {
     "data": {
      "text/plain": "                           main_mode       modes_output start_link_output  \\\ntrip_id                                                                     \n10000001_1                       car      walk-car-walk            144395   \n10000001_2                       car      walk-car-walk            134075   \n10000001_3                       car      walk-car-walk             77361   \n10000001_4                       car      walk-car-walk             31841   \n10000001_5                       car      walk-car-walk            144395   \n...                              ...                ...               ...   \nfreight_997_87464-berlin_1   freight  walk-freight-walk             87167   \nfreight_998_87464-berlin_1   freight  walk-freight-walk             87167   \nfreight_999_87464-berlin_1   freight  walk-freight-walk             87167   \nfreight_99_57921-berlin_1    freight  walk-freight-walk             15237   \nfreight_9_144245-berlin_1    freight  walk-freight-walk             12739   \n\n                           end_link_output     modes_analysis  \\\ntrip_id                                                         \n10000001_1                          134075      walk-car-walk   \n10000001_2                           77361      walk-car-walk   \n10000001_3                           31841      walk-car-walk   \n10000001_4                          144395      walk-car-walk   \n10000001_5                          106140      walk-car-walk   \n...                                    ...                ...   \nfreight_997_87464-berlin_1           54169  walk-freight-walk   \nfreight_998_87464-berlin_1           90464  walk-freight-walk   \nfreight_999_87464-berlin_1           88992  walk-freight-walk   \nfreight_99_57921-berlin_1              334  walk-freight-walk   \nfreight_9_144245-berlin_1           144486  walk-freight-walk   \n\n                           start_link_analysis end_link_analysis   start_area  \\\ntrip_id                                                                         \n10000001_1                              144395            134075  brandenburg   \n10000001_2                              134075             77361  brandenburg   \n10000001_3                               77361             31841  brandenburg   \n10000001_4                               31841            144395  brandenburg   \n10000001_5                              144395            106140  brandenburg   \n...                                        ...               ...          ...   \nfreight_997_87464-berlin_1               87167             54169  brandenburg   \nfreight_998_87464-berlin_1               87167             90464  brandenburg   \nfreight_999_87464-berlin_1               87167             88992  brandenburg   \nfreight_99_57921-berlin_1                15237               334  brandenburg   \nfreight_9_144245-berlin_1                12739            144486  brandenburg   \n\n                                                                visited_areas  \\\ntrip_id                                                                         \n10000001_1                                                        brandenburg   \n10000001_2                                                        brandenburg   \n10000001_3                                                        brandenburg   \n10000001_4                                                        brandenburg   \n10000001_5                                                        brandenburg   \n...                                                                       ...   \nfreight_997_87464-berlin_1  berlin_outside_umweltzone,berlin_umweltzone,br...   \nfreight_998_87464-berlin_1              berlin_outside_umweltzone,brandenburg   \nfreight_999_87464-berlin_1              berlin_outside_umweltzone,brandenburg   \nfreight_99_57921-berlin_1   berlin_outside_umweltzone,berlin_umweltzone,br...   \nfreight_9_144245-berlin_1   berlin_outside_umweltzone,berlin_umweltzone,br...   \n\n                                             end_area  \ntrip_id                                                \n10000001_1                                brandenburg  \n10000001_2                                brandenburg  \n10000001_3                                brandenburg  \n10000001_4                                brandenburg  \n10000001_5                                brandenburg  \n...                                               ...  \nfreight_997_87464-berlin_1          berlin_umweltzone  \nfreight_998_87464-berlin_1  berlin_outside_umweltzone  \nfreight_999_87464-berlin_1  berlin_outside_umweltzone  \nfreight_99_57921-berlin_1           berlin_umweltzone  \nfreight_9_144245-berlin_1   berlin_outside_umweltzone  \n\n[1823772 rows x 10 columns]",
      "text/html": "<div>\n<style scoped>\n    .dataframe tbody tr th:only-of-type {\n        vertical-align: middle;\n    }\n\n    .dataframe tbody tr th {\n        vertical-align: top;\n    }\n\n    .dataframe thead th {\n        text-align: right;\n    }\n</style>\n<table border=\"1\" class=\"dataframe\">\n  <thead>\n    <tr style=\"text-align: right;\">\n      <th></th>\n      <th>main_mode</th>\n      <th>modes_output</th>\n      <th>start_link_output</th>\n      <th>end_link_output</th>\n      <th>modes_analysis</th>\n      <th>start_link_analysis</th>\n      <th>end_link_analysis</th>\n      <th>start_area</th>\n      <th>visited_areas</th>\n      <th>end_area</th>\n    </tr>\n    <tr>\n      <th>trip_id</th>\n      <th></th>\n      <th></th>\n      <th></th>\n      <th></th>\n      <th></th>\n      <th></th>\n      <th></th>\n      <th></th>\n      <th></th>\n      <th></th>\n    </tr>\n  </thead>\n  <tbody>\n    <tr>\n      <th>10000001_1</th>\n      <td>car</td>\n      <td>walk-car-walk</td>\n      <td>144395</td>\n      <td>134075</td>\n      <td>walk-car-walk</td>\n      <td>144395</td>\n      <td>134075</td>\n      <td>brandenburg</td>\n      <td>brandenburg</td>\n      <td>brandenburg</td>\n    </tr>\n    <tr>\n      <th>10000001_2</th>\n      <td>car</td>\n      <td>walk-car-walk</td>\n      <td>134075</td>\n      <td>77361</td>\n      <td>walk-car-walk</td>\n      <td>134075</td>\n      <td>77361</td>\n      <td>brandenburg</td>\n      <td>brandenburg</td>\n      <td>brandenburg</td>\n    </tr>\n    <tr>\n      <th>10000001_3</th>\n      <td>car</td>\n      <td>walk-car-walk</td>\n      <td>77361</td>\n      <td>31841</td>\n      <td>walk-car-walk</td>\n      <td>77361</td>\n      <td>31841</td>\n      <td>brandenburg</td>\n      <td>brandenburg</td>\n      <td>brandenburg</td>\n    </tr>\n    <tr>\n      <th>10000001_4</th>\n      <td>car</td>\n      <td>walk-car-walk</td>\n      <td>31841</td>\n      <td>144395</td>\n      <td>walk-car-walk</td>\n      <td>31841</td>\n      <td>144395</td>\n      <td>brandenburg</td>\n      <td>brandenburg</td>\n      <td>brandenburg</td>\n    </tr>\n    <tr>\n      <th>10000001_5</th>\n      <td>car</td>\n      <td>walk-car-walk</td>\n      <td>144395</td>\n      <td>106140</td>\n      <td>walk-car-walk</td>\n      <td>144395</td>\n      <td>106140</td>\n      <td>brandenburg</td>\n      <td>brandenburg</td>\n      <td>brandenburg</td>\n    </tr>\n    <tr>\n      <th>...</th>\n      <td>...</td>\n      <td>...</td>\n      <td>...</td>\n      <td>...</td>\n      <td>...</td>\n      <td>...</td>\n      <td>...</td>\n      <td>...</td>\n      <td>...</td>\n      <td>...</td>\n    </tr>\n    <tr>\n      <th>freight_997_87464-berlin_1</th>\n      <td>freight</td>\n      <td>walk-freight-walk</td>\n      <td>87167</td>\n      <td>54169</td>\n      <td>walk-freight-walk</td>\n      <td>87167</td>\n      <td>54169</td>\n      <td>brandenburg</td>\n      <td>berlin_outside_umweltzone,berlin_umweltzone,br...</td>\n      <td>berlin_umweltzone</td>\n    </tr>\n    <tr>\n      <th>freight_998_87464-berlin_1</th>\n      <td>freight</td>\n      <td>walk-freight-walk</td>\n      <td>87167</td>\n      <td>90464</td>\n      <td>walk-freight-walk</td>\n      <td>87167</td>\n      <td>90464</td>\n      <td>brandenburg</td>\n      <td>berlin_outside_umweltzone,brandenburg</td>\n      <td>berlin_outside_umweltzone</td>\n    </tr>\n    <tr>\n      <th>freight_999_87464-berlin_1</th>\n      <td>freight</td>\n      <td>walk-freight-walk</td>\n      <td>87167</td>\n      <td>88992</td>\n      <td>walk-freight-walk</td>\n      <td>87167</td>\n      <td>88992</td>\n      <td>brandenburg</td>\n      <td>berlin_outside_umweltzone,brandenburg</td>\n      <td>berlin_outside_umweltzone</td>\n    </tr>\n    <tr>\n      <th>freight_99_57921-berlin_1</th>\n      <td>freight</td>\n      <td>walk-freight-walk</td>\n      <td>15237</td>\n      <td>334</td>\n      <td>walk-freight-walk</td>\n      <td>15237</td>\n      <td>334</td>\n      <td>brandenburg</td>\n      <td>berlin_outside_umweltzone,berlin_umweltzone,br...</td>\n      <td>berlin_umweltzone</td>\n    </tr>\n    <tr>\n      <th>freight_9_144245-berlin_1</th>\n      <td>freight</td>\n      <td>walk-freight-walk</td>\n      <td>12739</td>\n      <td>144486</td>\n      <td>walk-freight-walk</td>\n      <td>12739</td>\n      <td>144486</td>\n      <td>brandenburg</td>\n      <td>berlin_outside_umweltzone,berlin_umweltzone,br...</td>\n      <td>berlin_outside_umweltzone</td>\n    </tr>\n  </tbody>\n</table>\n<p>1823772 rows × 10 columns</p>\n</div>"
     },
     "execution_count": 13,
     "metadata": {},
     "output_type": "execute_result"
    }
   ],
   "source": [
    "joined = trips_by_scenario[BerlinScenario.GR_HS][\n",
    "    [\"main_mode\", \"modes\", \"start_link\", \"end_link\"]].join(\n",
    "    trips_berlinwise_by_scenario[BerlinScenario.GR_HS][\n",
    "        [\"modes\", \"start_link\", \"end_link\", \"start_area\", \"visited_areas\", \"end_area\"]],\n",
    "    lsuffix=\"_output\", rsuffix=\"_analysis\",\n",
    "    how=\"outer\", validate=\"1:1\")\n",
    "joined"
   ]
  },
  {
   "cell_type": "code",
   "execution_count": 41,
   "id": "142cc15340962a8a",
   "metadata": {
    "collapsed": false,
    "ExecuteTime": {
     "end_time": "2023-09-15T09:01:43.719155783Z",
     "start_time": "2023-09-15T09:01:42.928168421Z"
    }
   },
   "outputs": [
    {
     "data": {
      "text/plain": "Empty DataFrame\nColumns: [main_mode, modes_output, start_link_output, end_link_output, modes_analysis, start_link_analysis, end_link_analysis, start_area, visited_areas, end_area]\nIndex: []",
      "text/html": "<div>\n<style scoped>\n    .dataframe tbody tr th:only-of-type {\n        vertical-align: middle;\n    }\n\n    .dataframe tbody tr th {\n        vertical-align: top;\n    }\n\n    .dataframe thead th {\n        text-align: right;\n    }\n</style>\n<table border=\"1\" class=\"dataframe\">\n  <thead>\n    <tr style=\"text-align: right;\">\n      <th></th>\n      <th>main_mode</th>\n      <th>modes_output</th>\n      <th>start_link_output</th>\n      <th>end_link_output</th>\n      <th>modes_analysis</th>\n      <th>start_link_analysis</th>\n      <th>end_link_analysis</th>\n      <th>start_area</th>\n      <th>visited_areas</th>\n      <th>end_area</th>\n    </tr>\n    <tr>\n      <th>trip_id</th>\n      <th></th>\n      <th></th>\n      <th></th>\n      <th></th>\n      <th></th>\n      <th></th>\n      <th></th>\n      <th></th>\n      <th></th>\n      <th></th>\n    </tr>\n  </thead>\n  <tbody>\n  </tbody>\n</table>\n</div>"
     },
     "execution_count": 41,
     "metadata": {},
     "output_type": "execute_result"
    }
   ],
   "source": [
    "# check differences of start_link between trips.csv and berlinwise.csv, 0 results is good\n",
    "joined[joined[\"start_link_output\"].notnull() &\n",
    "       (joined[\"start_link_output\"].astype(joined[\"start_link_analysis\"].dtype) != joined[\"start_link_analysis\"])]"
   ]
  },
  {
   "cell_type": "code",
   "execution_count": 43,
   "id": "b8341bd8e1970994",
   "metadata": {
    "collapsed": false,
    "ExecuteTime": {
     "end_time": "2023-09-15T09:02:03.895022986Z",
     "start_time": "2023-09-15T09:02:03.772380228Z"
    }
   },
   "outputs": [
    {
     "data": {
      "text/plain": "Empty DataFrame\nColumns: [main_mode, modes_output, start_link_output, end_link_output, modes_analysis, start_link_analysis, end_link_analysis, start_area, visited_areas, end_area]\nIndex: []",
      "text/html": "<div>\n<style scoped>\n    .dataframe tbody tr th:only-of-type {\n        vertical-align: middle;\n    }\n\n    .dataframe tbody tr th {\n        vertical-align: top;\n    }\n\n    .dataframe thead th {\n        text-align: right;\n    }\n</style>\n<table border=\"1\" class=\"dataframe\">\n  <thead>\n    <tr style=\"text-align: right;\">\n      <th></th>\n      <th>main_mode</th>\n      <th>modes_output</th>\n      <th>start_link_output</th>\n      <th>end_link_output</th>\n      <th>modes_analysis</th>\n      <th>start_link_analysis</th>\n      <th>end_link_analysis</th>\n      <th>start_area</th>\n      <th>visited_areas</th>\n      <th>end_area</th>\n    </tr>\n    <tr>\n      <th>trip_id</th>\n      <th></th>\n      <th></th>\n      <th></th>\n      <th></th>\n      <th></th>\n      <th></th>\n      <th></th>\n      <th></th>\n      <th></th>\n      <th></th>\n    </tr>\n  </thead>\n  <tbody>\n  </tbody>\n</table>\n</div>"
     },
     "execution_count": 43,
     "metadata": {},
     "output_type": "execute_result"
    }
   ],
   "source": [
    "# check differences of end_link between trips.csv and berlinwise.csv, 0 results is good\n",
    "joined[joined[\"end_link_output\"].notnull() &\n",
    "       (joined[\"end_link_output\"].astype(joined[\"end_link_analysis\"].dtype) != joined[\"end_link_analysis\"])]"
   ]
  },
  {
   "cell_type": "code",
   "execution_count": 44,
   "id": "7297cbe077156f4a",
   "metadata": {
    "collapsed": false,
    "ExecuteTime": {
     "end_time": "2023-09-15T09:02:07.526576326Z",
     "start_time": "2023-09-15T09:02:03.882175402Z"
    }
   },
   "outputs": [
    {
     "data": {
      "text/plain": "            main_mode          modes_output start_link_output end_link_output  \\\ntrip_id                                                                         \n100024301_1        pt          walk-pt-walk            117737           71096   \n100024301_2        pt          walk-pt-walk             71096          117737   \n100027001_1        pt  walk-pt-walk-pt-walk             71096          114042   \n100027001_2        pt  walk-pt-walk-pt-walk            114042           71096   \n100027101_1   bicycle               bicycle             46691           46693   \n...               ...                   ...               ...             ...   \n99990201_3       walk                  walk             69410          120662   \n99990201_4       walk                  walk            120662           69410   \n99998601_1         pt          walk-pt-walk            114789          121587   \n99998601_2       walk                  walk            121587           79151   \n99998601_3         pt          walk-pt-walk             79151          114789   \n\n            modes_analysis start_link_analysis end_link_analysis  \\\ntrip_id                                                            \n100024301_1  walk-car-walk              117737             71096   \n100024301_2  walk-car-walk               71096            117737   \n100027001_1  walk-car-walk               71096            114042   \n100027001_2  walk-car-walk              114042             71096   \n100027101_1           walk               46691             46693   \n...                    ...                 ...               ...   \n99990201_3         bicycle               69410            120662   \n99990201_4         bicycle              120662             69410   \n99998601_1         bicycle              114789            121587   \n99998601_2         bicycle              121587             79151   \n99998601_3         bicycle               79151            114789   \n\n                            start_area                          visited_areas  \\\ntrip_id                                                                         \n100024301_1                brandenburg                            brandenburg   \n100024301_2                brandenburg                            brandenburg   \n100027001_1                brandenburg  berlin_outside_umweltzone,brandenburg   \n100027001_2  berlin_outside_umweltzone  berlin_outside_umweltzone,brandenburg   \n100027101_1                brandenburg                            brandenburg   \n...                                ...                                    ...   \n99990201_3                 brandenburg                            brandenburg   \n99990201_4                 brandenburg                            brandenburg   \n99998601_1                 brandenburg                            brandenburg   \n99998601_2                 brandenburg                            brandenburg   \n99998601_3                 brandenburg                            brandenburg   \n\n                              end_area  \ntrip_id                                 \n100024301_1                brandenburg  \n100024301_2                brandenburg  \n100027001_1  berlin_outside_umweltzone  \n100027001_2                brandenburg  \n100027101_1                brandenburg  \n...                                ...  \n99990201_3                 brandenburg  \n99990201_4                 brandenburg  \n99998601_1                 brandenburg  \n99998601_2                 brandenburg  \n99998601_3                 brandenburg  \n\n[148943 rows x 10 columns]",
      "text/html": "<div>\n<style scoped>\n    .dataframe tbody tr th:only-of-type {\n        vertical-align: middle;\n    }\n\n    .dataframe tbody tr th {\n        vertical-align: top;\n    }\n\n    .dataframe thead th {\n        text-align: right;\n    }\n</style>\n<table border=\"1\" class=\"dataframe\">\n  <thead>\n    <tr style=\"text-align: right;\">\n      <th></th>\n      <th>main_mode</th>\n      <th>modes_output</th>\n      <th>start_link_output</th>\n      <th>end_link_output</th>\n      <th>modes_analysis</th>\n      <th>start_link_analysis</th>\n      <th>end_link_analysis</th>\n      <th>start_area</th>\n      <th>visited_areas</th>\n      <th>end_area</th>\n    </tr>\n    <tr>\n      <th>trip_id</th>\n      <th></th>\n      <th></th>\n      <th></th>\n      <th></th>\n      <th></th>\n      <th></th>\n      <th></th>\n      <th></th>\n      <th></th>\n      <th></th>\n    </tr>\n  </thead>\n  <tbody>\n    <tr>\n      <th>100024301_1</th>\n      <td>pt</td>\n      <td>walk-pt-walk</td>\n      <td>117737</td>\n      <td>71096</td>\n      <td>walk-car-walk</td>\n      <td>117737</td>\n      <td>71096</td>\n      <td>brandenburg</td>\n      <td>brandenburg</td>\n      <td>brandenburg</td>\n    </tr>\n    <tr>\n      <th>100024301_2</th>\n      <td>pt</td>\n      <td>walk-pt-walk</td>\n      <td>71096</td>\n      <td>117737</td>\n      <td>walk-car-walk</td>\n      <td>71096</td>\n      <td>117737</td>\n      <td>brandenburg</td>\n      <td>brandenburg</td>\n      <td>brandenburg</td>\n    </tr>\n    <tr>\n      <th>100027001_1</th>\n      <td>pt</td>\n      <td>walk-pt-walk-pt-walk</td>\n      <td>71096</td>\n      <td>114042</td>\n      <td>walk-car-walk</td>\n      <td>71096</td>\n      <td>114042</td>\n      <td>brandenburg</td>\n      <td>berlin_outside_umweltzone,brandenburg</td>\n      <td>berlin_outside_umweltzone</td>\n    </tr>\n    <tr>\n      <th>100027001_2</th>\n      <td>pt</td>\n      <td>walk-pt-walk-pt-walk</td>\n      <td>114042</td>\n      <td>71096</td>\n      <td>walk-car-walk</td>\n      <td>114042</td>\n      <td>71096</td>\n      <td>berlin_outside_umweltzone</td>\n      <td>berlin_outside_umweltzone,brandenburg</td>\n      <td>brandenburg</td>\n    </tr>\n    <tr>\n      <th>100027101_1</th>\n      <td>bicycle</td>\n      <td>bicycle</td>\n      <td>46691</td>\n      <td>46693</td>\n      <td>walk</td>\n      <td>46691</td>\n      <td>46693</td>\n      <td>brandenburg</td>\n      <td>brandenburg</td>\n      <td>brandenburg</td>\n    </tr>\n    <tr>\n      <th>...</th>\n      <td>...</td>\n      <td>...</td>\n      <td>...</td>\n      <td>...</td>\n      <td>...</td>\n      <td>...</td>\n      <td>...</td>\n      <td>...</td>\n      <td>...</td>\n      <td>...</td>\n    </tr>\n    <tr>\n      <th>99990201_3</th>\n      <td>walk</td>\n      <td>walk</td>\n      <td>69410</td>\n      <td>120662</td>\n      <td>bicycle</td>\n      <td>69410</td>\n      <td>120662</td>\n      <td>brandenburg</td>\n      <td>brandenburg</td>\n      <td>brandenburg</td>\n    </tr>\n    <tr>\n      <th>99990201_4</th>\n      <td>walk</td>\n      <td>walk</td>\n      <td>120662</td>\n      <td>69410</td>\n      <td>bicycle</td>\n      <td>120662</td>\n      <td>69410</td>\n      <td>brandenburg</td>\n      <td>brandenburg</td>\n      <td>brandenburg</td>\n    </tr>\n    <tr>\n      <th>99998601_1</th>\n      <td>pt</td>\n      <td>walk-pt-walk</td>\n      <td>114789</td>\n      <td>121587</td>\n      <td>bicycle</td>\n      <td>114789</td>\n      <td>121587</td>\n      <td>brandenburg</td>\n      <td>brandenburg</td>\n      <td>brandenburg</td>\n    </tr>\n    <tr>\n      <th>99998601_2</th>\n      <td>walk</td>\n      <td>walk</td>\n      <td>121587</td>\n      <td>79151</td>\n      <td>bicycle</td>\n      <td>121587</td>\n      <td>79151</td>\n      <td>brandenburg</td>\n      <td>brandenburg</td>\n      <td>brandenburg</td>\n    </tr>\n    <tr>\n      <th>99998601_3</th>\n      <td>pt</td>\n      <td>walk-pt-walk</td>\n      <td>79151</td>\n      <td>114789</td>\n      <td>bicycle</td>\n      <td>79151</td>\n      <td>114789</td>\n      <td>brandenburg</td>\n      <td>brandenburg</td>\n      <td>brandenburg</td>\n    </tr>\n  </tbody>\n</table>\n<p>148943 rows × 10 columns</p>\n</div>"
     },
     "execution_count": 44,
     "metadata": {},
     "output_type": "execute_result"
    }
   ],
   "source": [
    "# check differences of mode between trips.csv and berlinwise.csv\n",
    "joined[joined[\"modes_output\"].astype(joined[\"modes_analysis\"].dtype) != joined[\"modes_analysis\"]]"
   ]
  },
  {
   "cell_type": "markdown",
   "id": "ffb512db",
   "metadata": {},
   "source": [
    "Generate `ALL.trips_berlinwise.csv`"
   ]
  },
  {
   "cell_type": "code",
   "execution_count": 25,
   "id": "35c23c5b0449e237",
   "metadata": {
    "collapsed": false,
    "ExecuteTime": {
     "end_time": "2023-09-14T22:24:13.182573943Z",
     "start_time": "2023-09-14T22:20:53.567666519Z"
    }
   },
   "outputs": [
    {
     "data": {
      "text/plain": "              person  trip_number BASE.berlinwise GR-HS.berlinwise  \\\ntrip_id                                                              \n10000001_1  10000001            1      non_berlin       non_berlin   \n10000001_2  10000001            2      non_berlin       non_berlin   \n10000001_3  10000001            3      non_berlin       non_berlin   \n10000001_4  10000001            4      non_berlin       non_berlin   \n10000001_5  10000001            5      non_berlin       non_berlin   \n...              ...          ...             ...              ...   \n99996201_3  99996201            3    berlin_inner     berlin_inner   \n99996201_4  99996201            4     berlin_orig      berlin_orig   \n99998601_1  99998601            1      non_berlin       non_berlin   \n99998601_2  99998601            2      non_berlin       non_berlin   \n99998601_3  99998601            3      non_berlin       non_berlin   \n\n           GR-WS.berlinwise KR-HS.berlinwise KB.berlinwise MV.berlinwise  \\\ntrip_id                                                                    \n10000001_1       non_berlin       non_berlin    non_berlin    non_berlin   \n10000001_2       non_berlin       non_berlin    non_berlin    non_berlin   \n10000001_3       non_berlin       non_berlin    non_berlin    non_berlin   \n10000001_4       non_berlin       non_berlin    non_berlin    non_berlin   \n10000001_5       non_berlin       non_berlin    non_berlin    non_berlin   \n...                     ...              ...           ...           ...   \n99996201_3     berlin_inner     berlin_inner  berlin_inner  berlin_inner   \n99996201_4      berlin_orig      berlin_orig   berlin_orig   berlin_orig   \n99998601_1       non_berlin       non_berlin    non_berlin    non_berlin   \n99998601_2       non_berlin       non_berlin    non_berlin    non_berlin   \n99998601_3       non_berlin       non_berlin    non_berlin    non_berlin   \n\n           S1.berlinwise S2.berlinwise S3.berlinwise  \ntrip_id                                               \n10000001_1    non_berlin    non_berlin    non_berlin  \n10000001_2    non_berlin    non_berlin    non_berlin  \n10000001_3    non_berlin    non_berlin    non_berlin  \n10000001_4    non_berlin    non_berlin    non_berlin  \n10000001_5    non_berlin    non_berlin    non_berlin  \n...                  ...           ...           ...  \n99996201_3  berlin_inner  berlin_inner  berlin_inner  \n99996201_4   berlin_orig   berlin_orig   berlin_orig  \n99998601_1    non_berlin    non_berlin    non_berlin  \n99998601_2    non_berlin    non_berlin    non_berlin  \n99998601_3    non_berlin    non_berlin    non_berlin  \n\n[1531847 rows x 11 columns]",
      "text/html": "<div>\n<style scoped>\n    .dataframe tbody tr th:only-of-type {\n        vertical-align: middle;\n    }\n\n    .dataframe tbody tr th {\n        vertical-align: top;\n    }\n\n    .dataframe thead th {\n        text-align: right;\n    }\n</style>\n<table border=\"1\" class=\"dataframe\">\n  <thead>\n    <tr style=\"text-align: right;\">\n      <th></th>\n      <th>person</th>\n      <th>trip_number</th>\n      <th>BASE.berlinwise</th>\n      <th>GR-HS.berlinwise</th>\n      <th>GR-WS.berlinwise</th>\n      <th>KR-HS.berlinwise</th>\n      <th>KB.berlinwise</th>\n      <th>MV.berlinwise</th>\n      <th>S1.berlinwise</th>\n      <th>S2.berlinwise</th>\n      <th>S3.berlinwise</th>\n    </tr>\n    <tr>\n      <th>trip_id</th>\n      <th></th>\n      <th></th>\n      <th></th>\n      <th></th>\n      <th></th>\n      <th></th>\n      <th></th>\n      <th></th>\n      <th></th>\n      <th></th>\n      <th></th>\n    </tr>\n  </thead>\n  <tbody>\n    <tr>\n      <th>10000001_1</th>\n      <td>10000001</td>\n      <td>1</td>\n      <td>non_berlin</td>\n      <td>non_berlin</td>\n      <td>non_berlin</td>\n      <td>non_berlin</td>\n      <td>non_berlin</td>\n      <td>non_berlin</td>\n      <td>non_berlin</td>\n      <td>non_berlin</td>\n      <td>non_berlin</td>\n    </tr>\n    <tr>\n      <th>10000001_2</th>\n      <td>10000001</td>\n      <td>2</td>\n      <td>non_berlin</td>\n      <td>non_berlin</td>\n      <td>non_berlin</td>\n      <td>non_berlin</td>\n      <td>non_berlin</td>\n      <td>non_berlin</td>\n      <td>non_berlin</td>\n      <td>non_berlin</td>\n      <td>non_berlin</td>\n    </tr>\n    <tr>\n      <th>10000001_3</th>\n      <td>10000001</td>\n      <td>3</td>\n      <td>non_berlin</td>\n      <td>non_berlin</td>\n      <td>non_berlin</td>\n      <td>non_berlin</td>\n      <td>non_berlin</td>\n      <td>non_berlin</td>\n      <td>non_berlin</td>\n      <td>non_berlin</td>\n      <td>non_berlin</td>\n    </tr>\n    <tr>\n      <th>10000001_4</th>\n      <td>10000001</td>\n      <td>4</td>\n      <td>non_berlin</td>\n      <td>non_berlin</td>\n      <td>non_berlin</td>\n      <td>non_berlin</td>\n      <td>non_berlin</td>\n      <td>non_berlin</td>\n      <td>non_berlin</td>\n      <td>non_berlin</td>\n      <td>non_berlin</td>\n    </tr>\n    <tr>\n      <th>10000001_5</th>\n      <td>10000001</td>\n      <td>5</td>\n      <td>non_berlin</td>\n      <td>non_berlin</td>\n      <td>non_berlin</td>\n      <td>non_berlin</td>\n      <td>non_berlin</td>\n      <td>non_berlin</td>\n      <td>non_berlin</td>\n      <td>non_berlin</td>\n      <td>non_berlin</td>\n    </tr>\n    <tr>\n      <th>...</th>\n      <td>...</td>\n      <td>...</td>\n      <td>...</td>\n      <td>...</td>\n      <td>...</td>\n      <td>...</td>\n      <td>...</td>\n      <td>...</td>\n      <td>...</td>\n      <td>...</td>\n      <td>...</td>\n    </tr>\n    <tr>\n      <th>99996201_3</th>\n      <td>99996201</td>\n      <td>3</td>\n      <td>berlin_inner</td>\n      <td>berlin_inner</td>\n      <td>berlin_inner</td>\n      <td>berlin_inner</td>\n      <td>berlin_inner</td>\n      <td>berlin_inner</td>\n      <td>berlin_inner</td>\n      <td>berlin_inner</td>\n      <td>berlin_inner</td>\n    </tr>\n    <tr>\n      <th>99996201_4</th>\n      <td>99996201</td>\n      <td>4</td>\n      <td>berlin_orig</td>\n      <td>berlin_orig</td>\n      <td>berlin_orig</td>\n      <td>berlin_orig</td>\n      <td>berlin_orig</td>\n      <td>berlin_orig</td>\n      <td>berlin_orig</td>\n      <td>berlin_orig</td>\n      <td>berlin_orig</td>\n    </tr>\n    <tr>\n      <th>99998601_1</th>\n      <td>99998601</td>\n      <td>1</td>\n      <td>non_berlin</td>\n      <td>non_berlin</td>\n      <td>non_berlin</td>\n      <td>non_berlin</td>\n      <td>non_berlin</td>\n      <td>non_berlin</td>\n      <td>non_berlin</td>\n      <td>non_berlin</td>\n      <td>non_berlin</td>\n    </tr>\n    <tr>\n      <th>99998601_2</th>\n      <td>99998601</td>\n      <td>2</td>\n      <td>non_berlin</td>\n      <td>non_berlin</td>\n      <td>non_berlin</td>\n      <td>non_berlin</td>\n      <td>non_berlin</td>\n      <td>non_berlin</td>\n      <td>non_berlin</td>\n      <td>non_berlin</td>\n      <td>non_berlin</td>\n    </tr>\n    <tr>\n      <th>99998601_3</th>\n      <td>99998601</td>\n      <td>3</td>\n      <td>non_berlin</td>\n      <td>non_berlin</td>\n      <td>non_berlin</td>\n      <td>non_berlin</td>\n      <td>non_berlin</td>\n      <td>non_berlin</td>\n      <td>non_berlin</td>\n      <td>non_berlin</td>\n      <td>non_berlin</td>\n    </tr>\n  </tbody>\n</table>\n<p>1531847 rows × 11 columns</p>\n</div>"
     },
     "execution_count": 25,
     "metadata": {},
     "output_type": "execute_result"
    }
   ],
   "source": [
    "trips_berlinwise = generate_trips_berlinwise(agent_subpopulations.relevant, trips_berlinwise_by_scenario)\n",
    "trips_berlinwise.to_csv(SCENARIOS_PATH / \"ALL.trips_berlinwise.csv\", sep=\";\")\n",
    "trips_berlinwise"
   ]
  },
  {
   "cell_type": "markdown",
   "id": "4cc10c5c",
   "metadata": {},
   "source": [
    "Listet trips, die unterschiedliche berlinwise-Werte haben (z.B. von berlin_orig auf berlin_inner wechseln)"
   ]
  },
  {
   "cell_type": "code",
   "execution_count": 26,
   "id": "b7f4041fbe0a8ab1",
   "metadata": {
    "collapsed": false,
    "ExecuteTime": {
     "end_time": "2023-09-14T22:25:31.274713281Z",
     "start_time": "2023-09-14T22:24:23.459787583Z"
    }
   },
   "outputs": [
    {
     "data": {
      "text/plain": "Empty DataFrame\nColumns: [person, trip_number, BASE.berlinwise, GR-HS.berlinwise, GR-WS.berlinwise, KR-HS.berlinwise, KB.berlinwise, MV.berlinwise, S1.berlinwise, S2.berlinwise, S3.berlinwise]\nIndex: []",
      "text/html": "<div>\n<style scoped>\n    .dataframe tbody tr th:only-of-type {\n        vertical-align: middle;\n    }\n\n    .dataframe tbody tr th {\n        vertical-align: top;\n    }\n\n    .dataframe thead th {\n        text-align: right;\n    }\n</style>\n<table border=\"1\" class=\"dataframe\">\n  <thead>\n    <tr style=\"text-align: right;\">\n      <th></th>\n      <th>person</th>\n      <th>trip_number</th>\n      <th>BASE.berlinwise</th>\n      <th>GR-HS.berlinwise</th>\n      <th>GR-WS.berlinwise</th>\n      <th>KR-HS.berlinwise</th>\n      <th>KB.berlinwise</th>\n      <th>MV.berlinwise</th>\n      <th>S1.berlinwise</th>\n      <th>S2.berlinwise</th>\n      <th>S3.berlinwise</th>\n    </tr>\n    <tr>\n      <th>trip_id</th>\n      <th></th>\n      <th></th>\n      <th></th>\n      <th></th>\n      <th></th>\n      <th></th>\n      <th></th>\n      <th></th>\n      <th></th>\n      <th></th>\n      <th></th>\n    </tr>\n  </thead>\n  <tbody>\n  </tbody>\n</table>\n</div>"
     },
     "execution_count": 26,
     "metadata": {},
     "output_type": "execute_result"
    }
   ],
   "source": [
    "def berlinwise_differs_across_scenarios(row):\n",
    "    values = {row[berlinwise_col(scenario)] for scenario in BerlinScenario}\n",
    "    values.discard(\"cancelled\")\n",
    "    return len(values) != 1\n",
    "\n",
    "\n",
    "trips_berlinwise[trips_berlinwise.apply(berlinwise_differs_across_scenarios, axis=1)]"
   ]
  },
  {
   "cell_type": "markdown",
   "id": "a574374e",
   "metadata": {},
   "source": [
    "Generate `ALL.nonberlin_trips.csv`"
   ]
  },
  {
   "cell_type": "code",
   "execution_count": 27,
   "id": "d7b1abd560cd033c",
   "metadata": {
    "collapsed": false,
    "ExecuteTime": {
     "end_time": "2023-09-14T22:29:26.763982616Z",
     "start_time": "2023-09-14T22:26:36.903412731Z"
    }
   },
   "outputs": [
    {
     "data": {
      "text/plain": "              person  trip_number BASE.berlin_transit GR-HS.berlin_transit  \\\ntrip_id                                                                      \n10000001_1  10000001            1               other                other   \n10000001_2  10000001            2               other                other   \n10000001_3  10000001            3               other                other   \n10000001_4  10000001            4               other                other   \n10000001_5  10000001            5               other                other   \n...              ...          ...                 ...                  ...   \n99995901_4  99995901            4               other                other   \n99996201_1  99996201            1               other                other   \n99998601_1  99998601            1               other                other   \n99998601_2  99998601            2               other                other   \n99998601_3  99998601            3               other                other   \n\n           GR-WS.berlin_transit KR-HS.berlin_transit KB.berlin_transit  \\\ntrip_id                                                                  \n10000001_1                other                other             other   \n10000001_2                other                other             other   \n10000001_3                other                other             other   \n10000001_4                other                other             other   \n10000001_5                other                other             other   \n...                         ...                  ...               ...   \n99995901_4                other                other             other   \n99996201_1                other                other             other   \n99998601_1                other                other             other   \n99998601_2                other                other             other   \n99998601_3                other                other             other   \n\n           MV.berlin_transit S1.berlin_transit S2.berlin_transit  \\\ntrip_id                                                            \n10000001_1             other             other             other   \n10000001_2             other             other             other   \n10000001_3             other             other             other   \n10000001_4             other             other             other   \n10000001_5             other             other             other   \n...                      ...               ...               ...   \n99995901_4             other             other             other   \n99996201_1             other             other             other   \n99998601_1             other             other             other   \n99998601_2             other             other             other   \n99998601_3             other             other             other   \n\n           S3.berlin_transit  \ntrip_id                       \n10000001_1             other  \n10000001_2             other  \n10000001_3             other  \n10000001_4             other  \n10000001_5             other  \n...                      ...  \n99995901_4             other  \n99996201_1             other  \n99998601_1             other  \n99998601_2             other  \n99998601_3             other  \n\n[570976 rows x 11 columns]",
      "text/html": "<div>\n<style scoped>\n    .dataframe tbody tr th:only-of-type {\n        vertical-align: middle;\n    }\n\n    .dataframe tbody tr th {\n        vertical-align: top;\n    }\n\n    .dataframe thead th {\n        text-align: right;\n    }\n</style>\n<table border=\"1\" class=\"dataframe\">\n  <thead>\n    <tr style=\"text-align: right;\">\n      <th></th>\n      <th>person</th>\n      <th>trip_number</th>\n      <th>BASE.berlin_transit</th>\n      <th>GR-HS.berlin_transit</th>\n      <th>GR-WS.berlin_transit</th>\n      <th>KR-HS.berlin_transit</th>\n      <th>KB.berlin_transit</th>\n      <th>MV.berlin_transit</th>\n      <th>S1.berlin_transit</th>\n      <th>S2.berlin_transit</th>\n      <th>S3.berlin_transit</th>\n    </tr>\n    <tr>\n      <th>trip_id</th>\n      <th></th>\n      <th></th>\n      <th></th>\n      <th></th>\n      <th></th>\n      <th></th>\n      <th></th>\n      <th></th>\n      <th></th>\n      <th></th>\n      <th></th>\n    </tr>\n  </thead>\n  <tbody>\n    <tr>\n      <th>10000001_1</th>\n      <td>10000001</td>\n      <td>1</td>\n      <td>other</td>\n      <td>other</td>\n      <td>other</td>\n      <td>other</td>\n      <td>other</td>\n      <td>other</td>\n      <td>other</td>\n      <td>other</td>\n      <td>other</td>\n    </tr>\n    <tr>\n      <th>10000001_2</th>\n      <td>10000001</td>\n      <td>2</td>\n      <td>other</td>\n      <td>other</td>\n      <td>other</td>\n      <td>other</td>\n      <td>other</td>\n      <td>other</td>\n      <td>other</td>\n      <td>other</td>\n      <td>other</td>\n    </tr>\n    <tr>\n      <th>10000001_3</th>\n      <td>10000001</td>\n      <td>3</td>\n      <td>other</td>\n      <td>other</td>\n      <td>other</td>\n      <td>other</td>\n      <td>other</td>\n      <td>other</td>\n      <td>other</td>\n      <td>other</td>\n      <td>other</td>\n    </tr>\n    <tr>\n      <th>10000001_4</th>\n      <td>10000001</td>\n      <td>4</td>\n      <td>other</td>\n      <td>other</td>\n      <td>other</td>\n      <td>other</td>\n      <td>other</td>\n      <td>other</td>\n      <td>other</td>\n      <td>other</td>\n      <td>other</td>\n    </tr>\n    <tr>\n      <th>10000001_5</th>\n      <td>10000001</td>\n      <td>5</td>\n      <td>other</td>\n      <td>other</td>\n      <td>other</td>\n      <td>other</td>\n      <td>other</td>\n      <td>other</td>\n      <td>other</td>\n      <td>other</td>\n      <td>other</td>\n    </tr>\n    <tr>\n      <th>...</th>\n      <td>...</td>\n      <td>...</td>\n      <td>...</td>\n      <td>...</td>\n      <td>...</td>\n      <td>...</td>\n      <td>...</td>\n      <td>...</td>\n      <td>...</td>\n      <td>...</td>\n      <td>...</td>\n    </tr>\n    <tr>\n      <th>99995901_4</th>\n      <td>99995901</td>\n      <td>4</td>\n      <td>other</td>\n      <td>other</td>\n      <td>other</td>\n      <td>other</td>\n      <td>other</td>\n      <td>other</td>\n      <td>other</td>\n      <td>other</td>\n      <td>other</td>\n    </tr>\n    <tr>\n      <th>99996201_1</th>\n      <td>99996201</td>\n      <td>1</td>\n      <td>other</td>\n      <td>other</td>\n      <td>other</td>\n      <td>other</td>\n      <td>other</td>\n      <td>other</td>\n      <td>other</td>\n      <td>other</td>\n      <td>other</td>\n    </tr>\n    <tr>\n      <th>99998601_1</th>\n      <td>99998601</td>\n      <td>1</td>\n      <td>other</td>\n      <td>other</td>\n      <td>other</td>\n      <td>other</td>\n      <td>other</td>\n      <td>other</td>\n      <td>other</td>\n      <td>other</td>\n      <td>other</td>\n    </tr>\n    <tr>\n      <th>99998601_2</th>\n      <td>99998601</td>\n      <td>2</td>\n      <td>other</td>\n      <td>other</td>\n      <td>other</td>\n      <td>other</td>\n      <td>other</td>\n      <td>other</td>\n      <td>other</td>\n      <td>other</td>\n      <td>other</td>\n    </tr>\n    <tr>\n      <th>99998601_3</th>\n      <td>99998601</td>\n      <td>3</td>\n      <td>other</td>\n      <td>other</td>\n      <td>other</td>\n      <td>other</td>\n      <td>other</td>\n      <td>other</td>\n      <td>other</td>\n      <td>other</td>\n      <td>other</td>\n    </tr>\n  </tbody>\n</table>\n<p>570976 rows × 11 columns</p>\n</div>"
     },
     "execution_count": 27,
     "metadata": {},
     "output_type": "execute_result"
    }
   ],
   "source": [
    "nonberlin_trips = generate_nonberlin_trips(agent_subpopulations.relevant, trips_berlinwise_by_scenario)\n",
    "nonberlin_trips.to_csv(SCENARIOS_PATH / \"ALL.nonberlin_trips.csv\", sep=\";\")\n",
    "nonberlin_trips"
   ]
  },
  {
   "cell_type": "markdown",
   "id": "764c673c",
   "metadata": {},
   "source": [
    "Listet trips, die berlin_transit sind und einen teleportierten Modus (walk oder bicycle) haben."
   ]
  },
  {
   "cell_type": "code",
   "execution_count": 17,
   "id": "9d338e5bc96c03d2",
   "metadata": {
    "ExecuteTime": {
     "end_time": "2023-09-10T15:30:23.096185540Z",
     "start_time": "2023-09-10T15:30:19.802128585Z"
    },
    "collapsed": false
   },
   "outputs": [],
   "source": [
    "joined = trips_by_scenario[BerlinScenario.GR_HS].join(trips_berlinwise_by_scenario[BerlinScenario.GR_HS],\n",
    "                                                      \"trip_id\", \"outer\", lsuffix=\"output\", rsuffix=\"analysis\")\n",
    "trips_with_teleported_transit = joined[\n",
    "    (joined[\"berlinwise\"] == \"berlin_transit\") & (joined[\"main_mode\"].isin([\"bicycle\", \"walk\"]))]"
   ]
  },
  {
   "cell_type": "code",
   "execution_count": 18,
   "id": "164204d4",
   "metadata": {
    "ExecuteTime": {
     "end_time": "2023-09-10T15:30:26.997089990Z",
     "start_time": "2023-09-10T15:30:26.135025930Z"
    }
   },
   "outputs": [
    {
     "data": {
      "text/html": [
       "<div>\n",
       "<style scoped>\n",
       "    .dataframe tbody tr th:only-of-type {\n",
       "        vertical-align: middle;\n",
       "    }\n",
       "\n",
       "    .dataframe tbody tr th {\n",
       "        vertical-align: top;\n",
       "    }\n",
       "\n",
       "    .dataframe thead th {\n",
       "        text-align: right;\n",
       "    }\n",
       "</style>\n",
       "<table border=\"1\" class=\"dataframe\">\n",
       "  <thead>\n",
       "    <tr style=\"text-align: right;\">\n",
       "      <th></th>\n",
       "      <th>person</th>\n",
       "      <th>trip_number</th>\n",
       "      <th>dep_time</th>\n",
       "      <th>trav_time</th>\n",
       "      <th>wait_time</th>\n",
       "      <th>traveled_distance</th>\n",
       "      <th>euclidean_distance</th>\n",
       "      <th>main_mode</th>\n",
       "      <th>longest_distance_mode</th>\n",
       "      <th>modes</th>\n",
       "      <th>...</th>\n",
       "      <th>start_x</th>\n",
       "      <th>start_y</th>\n",
       "      <th>end_facility_id</th>\n",
       "      <th>end_link</th>\n",
       "      <th>end_x</th>\n",
       "      <th>end_y</th>\n",
       "      <th>first_pt_boarding_stop</th>\n",
       "      <th>last_pt_egress_stop</th>\n",
       "      <th>start_linkoutput</th>\n",
       "      <th>start_linkanalysis</th>\n",
       "    </tr>\n",
       "  </thead>\n",
       "  <tbody>\n",
       "    <tr>\n",
       "      <th>108173201_3</th>\n",
       "      <td>108173201</td>\n",
       "      <td>3</td>\n",
       "      <td>18:18:37</td>\n",
       "      <td>01:17:17</td>\n",
       "      <td>00:00:00</td>\n",
       "      <td>14557</td>\n",
       "      <td>11197</td>\n",
       "      <td>bicycle</td>\n",
       "      <td>bicycle</td>\n",
       "      <td>bicycle</td>\n",
       "      <td>...</td>\n",
       "      <td>4.579772e+06</td>\n",
       "      <td>5.841566e+06</td>\n",
       "      <td>NaN</td>\n",
       "      <td>50131</td>\n",
       "      <td>4.588820e+06</td>\n",
       "      <td>5.834969e+06</td>\n",
       "      <td>NaN</td>\n",
       "      <td>NaN</td>\n",
       "      <td>14578</td>\n",
       "      <td>14578</td>\n",
       "    </tr>\n",
       "    <tr>\n",
       "      <th>108173201_4</th>\n",
       "      <td>108173201</td>\n",
       "      <td>4</td>\n",
       "      <td>20:03:01</td>\n",
       "      <td>01:17:17</td>\n",
       "      <td>00:00:00</td>\n",
       "      <td>14557</td>\n",
       "      <td>11197</td>\n",
       "      <td>bicycle</td>\n",
       "      <td>bicycle</td>\n",
       "      <td>bicycle</td>\n",
       "      <td>...</td>\n",
       "      <td>4.588820e+06</td>\n",
       "      <td>5.834969e+06</td>\n",
       "      <td>NaN</td>\n",
       "      <td>14578</td>\n",
       "      <td>4.579772e+06</td>\n",
       "      <td>5.841566e+06</td>\n",
       "      <td>NaN</td>\n",
       "      <td>NaN</td>\n",
       "      <td>50131</td>\n",
       "      <td>50131</td>\n",
       "    </tr>\n",
       "    <tr>\n",
       "      <th>118893501_1</th>\n",
       "      <td>118893501</td>\n",
       "      <td>1</td>\n",
       "      <td>10:24:13</td>\n",
       "      <td>01:51:50</td>\n",
       "      <td>00:00:00</td>\n",
       "      <td>21064</td>\n",
       "      <td>16515</td>\n",
       "      <td>bicycle</td>\n",
       "      <td>bicycle</td>\n",
       "      <td>bicycle</td>\n",
       "      <td>...</td>\n",
       "      <td>4.621037e+06</td>\n",
       "      <td>5.825435e+06</td>\n",
       "      <td>NaN</td>\n",
       "      <td>56594</td>\n",
       "      <td>4.605597e+06</td>\n",
       "      <td>5.831295e+06</td>\n",
       "      <td>NaN</td>\n",
       "      <td>NaN</td>\n",
       "      <td>105754</td>\n",
       "      <td>105754</td>\n",
       "    </tr>\n",
       "    <tr>\n",
       "      <th>124860301_3</th>\n",
       "      <td>124860301</td>\n",
       "      <td>3</td>\n",
       "      <td>17:06:36</td>\n",
       "      <td>00:58:49</td>\n",
       "      <td>00:00:00</td>\n",
       "      <td>11078</td>\n",
       "      <td>8521</td>\n",
       "      <td>bicycle</td>\n",
       "      <td>bicycle</td>\n",
       "      <td>bicycle</td>\n",
       "      <td>...</td>\n",
       "      <td>4.574878e+06</td>\n",
       "      <td>5.807235e+06</td>\n",
       "      <td>NaN</td>\n",
       "      <td>136217</td>\n",
       "      <td>4.583332e+06</td>\n",
       "      <td>5.806167e+06</td>\n",
       "      <td>NaN</td>\n",
       "      <td>NaN</td>\n",
       "      <td>2582</td>\n",
       "      <td>2582</td>\n",
       "    </tr>\n",
       "    <tr>\n",
       "      <th>126558801_1</th>\n",
       "      <td>126558801</td>\n",
       "      <td>1</td>\n",
       "      <td>12:27:45</td>\n",
       "      <td>00:28:12</td>\n",
       "      <td>00:00:00</td>\n",
       "      <td>5312</td>\n",
       "      <td>3841</td>\n",
       "      <td>bicycle</td>\n",
       "      <td>bicycle</td>\n",
       "      <td>bicycle</td>\n",
       "      <td>...</td>\n",
       "      <td>4.619114e+06</td>\n",
       "      <td>5.815260e+06</td>\n",
       "      <td>NaN</td>\n",
       "      <td>125423</td>\n",
       "      <td>4.619641e+06</td>\n",
       "      <td>5.811456e+06</td>\n",
       "      <td>NaN</td>\n",
       "      <td>NaN</td>\n",
       "      <td>98932</td>\n",
       "      <td>98932</td>\n",
       "    </tr>\n",
       "    <tr>\n",
       "      <th>...</th>\n",
       "      <td>...</td>\n",
       "      <td>...</td>\n",
       "      <td>...</td>\n",
       "      <td>...</td>\n",
       "      <td>...</td>\n",
       "      <td>...</td>\n",
       "      <td>...</td>\n",
       "      <td>...</td>\n",
       "      <td>...</td>\n",
       "      <td>...</td>\n",
       "      <td>...</td>\n",
       "      <td>...</td>\n",
       "      <td>...</td>\n",
       "      <td>...</td>\n",
       "      <td>...</td>\n",
       "      <td>...</td>\n",
       "      <td>...</td>\n",
       "      <td>...</td>\n",
       "      <td>...</td>\n",
       "      <td>...</td>\n",
       "      <td>...</td>\n",
       "    </tr>\n",
       "    <tr>\n",
       "      <th>95617401_2</th>\n",
       "      <td>95617401</td>\n",
       "      <td>2</td>\n",
       "      <td>10:46:16</td>\n",
       "      <td>00:25:16</td>\n",
       "      <td>00:00:00</td>\n",
       "      <td>4760</td>\n",
       "      <td>3661</td>\n",
       "      <td>bicycle</td>\n",
       "      <td>bicycle</td>\n",
       "      <td>bicycle</td>\n",
       "      <td>...</td>\n",
       "      <td>4.611716e+06</td>\n",
       "      <td>5.820404e+06</td>\n",
       "      <td>NaN</td>\n",
       "      <td>142972</td>\n",
       "      <td>4.612452e+06</td>\n",
       "      <td>5.823991e+06</td>\n",
       "      <td>NaN</td>\n",
       "      <td>NaN</td>\n",
       "      <td>141606</td>\n",
       "      <td>141606</td>\n",
       "    </tr>\n",
       "    <tr>\n",
       "      <th>95737701_5</th>\n",
       "      <td>95737701</td>\n",
       "      <td>5</td>\n",
       "      <td>11:43:26</td>\n",
       "      <td>00:38:44</td>\n",
       "      <td>00:00:00</td>\n",
       "      <td>7296</td>\n",
       "      <td>5612</td>\n",
       "      <td>bicycle</td>\n",
       "      <td>bicycle</td>\n",
       "      <td>bicycle</td>\n",
       "      <td>...</td>\n",
       "      <td>4.611033e+06</td>\n",
       "      <td>5.823609e+06</td>\n",
       "      <td>NaN</td>\n",
       "      <td>20968</td>\n",
       "      <td>4.612698e+06</td>\n",
       "      <td>5.818250e+06</td>\n",
       "      <td>NaN</td>\n",
       "      <td>NaN</td>\n",
       "      <td>141646</td>\n",
       "      <td>141646</td>\n",
       "    </tr>\n",
       "    <tr>\n",
       "      <th>95737701_6</th>\n",
       "      <td>95737701</td>\n",
       "      <td>6</td>\n",
       "      <td>12:22:10</td>\n",
       "      <td>00:38:44</td>\n",
       "      <td>00:00:00</td>\n",
       "      <td>7296</td>\n",
       "      <td>5612</td>\n",
       "      <td>bicycle</td>\n",
       "      <td>bicycle</td>\n",
       "      <td>bicycle</td>\n",
       "      <td>...</td>\n",
       "      <td>4.612698e+06</td>\n",
       "      <td>5.818250e+06</td>\n",
       "      <td>NaN</td>\n",
       "      <td>141646</td>\n",
       "      <td>4.611033e+06</td>\n",
       "      <td>5.823609e+06</td>\n",
       "      <td>NaN</td>\n",
       "      <td>NaN</td>\n",
       "      <td>20968</td>\n",
       "      <td>20968</td>\n",
       "    </tr>\n",
       "    <tr>\n",
       "      <th>95835801_6</th>\n",
       "      <td>95835801</td>\n",
       "      <td>6</td>\n",
       "      <td>21:08:00</td>\n",
       "      <td>00:10:05</td>\n",
       "      <td>00:00:00</td>\n",
       "      <td>1900</td>\n",
       "      <td>1461</td>\n",
       "      <td>bicycle</td>\n",
       "      <td>bicycle</td>\n",
       "      <td>bicycle</td>\n",
       "      <td>...</td>\n",
       "      <td>4.612507e+06</td>\n",
       "      <td>5.821896e+06</td>\n",
       "      <td>NaN</td>\n",
       "      <td>158621</td>\n",
       "      <td>4.611887e+06</td>\n",
       "      <td>5.823219e+06</td>\n",
       "      <td>NaN</td>\n",
       "      <td>NaN</td>\n",
       "      <td>110223</td>\n",
       "      <td>110223</td>\n",
       "    </tr>\n",
       "    <tr>\n",
       "      <th>95835801_7</th>\n",
       "      <td>95835801</td>\n",
       "      <td>7</td>\n",
       "      <td>21:27:05</td>\n",
       "      <td>00:10:05</td>\n",
       "      <td>00:00:00</td>\n",
       "      <td>1900</td>\n",
       "      <td>1461</td>\n",
       "      <td>bicycle</td>\n",
       "      <td>bicycle</td>\n",
       "      <td>bicycle</td>\n",
       "      <td>...</td>\n",
       "      <td>4.611887e+06</td>\n",
       "      <td>5.823219e+06</td>\n",
       "      <td>NaN</td>\n",
       "      <td>110223</td>\n",
       "      <td>4.612507e+06</td>\n",
       "      <td>5.821896e+06</td>\n",
       "      <td>NaN</td>\n",
       "      <td>NaN</td>\n",
       "      <td>158621</td>\n",
       "      <td>158621</td>\n",
       "    </tr>\n",
       "  </tbody>\n",
       "</table>\n",
       "<p>67 rows × 24 columns</p>\n",
       "</div>"
      ],
      "text/plain": [
       "                person  trip_number  dep_time trav_time wait_time  \\\n",
       "108173201_3  108173201            3  18:18:37  01:17:17  00:00:00   \n",
       "108173201_4  108173201            4  20:03:01  01:17:17  00:00:00   \n",
       "118893501_1  118893501            1  10:24:13  01:51:50  00:00:00   \n",
       "124860301_3  124860301            3  17:06:36  00:58:49  00:00:00   \n",
       "126558801_1  126558801            1  12:27:45  00:28:12  00:00:00   \n",
       "...                ...          ...       ...       ...       ...   \n",
       "95617401_2    95617401            2  10:46:16  00:25:16  00:00:00   \n",
       "95737701_5    95737701            5  11:43:26  00:38:44  00:00:00   \n",
       "95737701_6    95737701            6  12:22:10  00:38:44  00:00:00   \n",
       "95835801_6    95835801            6  21:08:00  00:10:05  00:00:00   \n",
       "95835801_7    95835801            7  21:27:05  00:10:05  00:00:00   \n",
       "\n",
       "             traveled_distance  euclidean_distance main_mode  \\\n",
       "108173201_3              14557               11197   bicycle   \n",
       "108173201_4              14557               11197   bicycle   \n",
       "118893501_1              21064               16515   bicycle   \n",
       "124860301_3              11078                8521   bicycle   \n",
       "126558801_1               5312                3841   bicycle   \n",
       "...                        ...                 ...       ...   \n",
       "95617401_2                4760                3661   bicycle   \n",
       "95737701_5                7296                5612   bicycle   \n",
       "95737701_6                7296                5612   bicycle   \n",
       "95835801_6                1900                1461   bicycle   \n",
       "95835801_7                1900                1461   bicycle   \n",
       "\n",
       "            longest_distance_mode    modes  ...       start_x       start_y  \\\n",
       "108173201_3               bicycle  bicycle  ...  4.579772e+06  5.841566e+06   \n",
       "108173201_4               bicycle  bicycle  ...  4.588820e+06  5.834969e+06   \n",
       "118893501_1               bicycle  bicycle  ...  4.621037e+06  5.825435e+06   \n",
       "124860301_3               bicycle  bicycle  ...  4.574878e+06  5.807235e+06   \n",
       "126558801_1               bicycle  bicycle  ...  4.619114e+06  5.815260e+06   \n",
       "...                           ...      ...  ...           ...           ...   \n",
       "95617401_2                bicycle  bicycle  ...  4.611716e+06  5.820404e+06   \n",
       "95737701_5                bicycle  bicycle  ...  4.611033e+06  5.823609e+06   \n",
       "95737701_6                bicycle  bicycle  ...  4.612698e+06  5.818250e+06   \n",
       "95835801_6                bicycle  bicycle  ...  4.612507e+06  5.821896e+06   \n",
       "95835801_7                bicycle  bicycle  ...  4.611887e+06  5.823219e+06   \n",
       "\n",
       "             end_facility_id end_link         end_x         end_y  \\\n",
       "108173201_3              NaN    50131  4.588820e+06  5.834969e+06   \n",
       "108173201_4              NaN    14578  4.579772e+06  5.841566e+06   \n",
       "118893501_1              NaN    56594  4.605597e+06  5.831295e+06   \n",
       "124860301_3              NaN   136217  4.583332e+06  5.806167e+06   \n",
       "126558801_1              NaN   125423  4.619641e+06  5.811456e+06   \n",
       "...                      ...      ...           ...           ...   \n",
       "95617401_2               NaN   142972  4.612452e+06  5.823991e+06   \n",
       "95737701_5               NaN    20968  4.612698e+06  5.818250e+06   \n",
       "95737701_6               NaN   141646  4.611033e+06  5.823609e+06   \n",
       "95835801_6               NaN   158621  4.611887e+06  5.823219e+06   \n",
       "95835801_7               NaN   110223  4.612507e+06  5.821896e+06   \n",
       "\n",
       "             first_pt_boarding_stop last_pt_egress_stop  start_linkoutput  \\\n",
       "108173201_3                     NaN                 NaN             14578   \n",
       "108173201_4                     NaN                 NaN             50131   \n",
       "118893501_1                     NaN                 NaN            105754   \n",
       "124860301_3                     NaN                 NaN              2582   \n",
       "126558801_1                     NaN                 NaN             98932   \n",
       "...                             ...                 ...               ...   \n",
       "95617401_2                      NaN                 NaN            141606   \n",
       "95737701_5                      NaN                 NaN            141646   \n",
       "95737701_6                      NaN                 NaN             20968   \n",
       "95835801_6                      NaN                 NaN            110223   \n",
       "95835801_7                      NaN                 NaN            158621   \n",
       "\n",
       "             start_linkanalysis  \n",
       "108173201_3               14578  \n",
       "108173201_4               50131  \n",
       "118893501_1              105754  \n",
       "124860301_3                2582  \n",
       "126558801_1               98932  \n",
       "...                         ...  \n",
       "95617401_2               141606  \n",
       "95737701_5               141646  \n",
       "95737701_6                20968  \n",
       "95835801_6               110223  \n",
       "95835801_7               158621  \n",
       "\n",
       "[67 rows x 24 columns]"
      ]
     },
     "execution_count": 18,
     "metadata": {},
     "output_type": "execute_result"
    }
   ],
   "source": [
    "trips_by_scenario[BerlinScenario.BASE].join(trips_with_teleported_transit[[\"start_linkoutput\", \"start_linkanalysis\"]],\n",
    "                                            how=\"inner\")"
   ]
  },
  {
   "cell_type": "markdown",
   "id": "cbbdcdc0",
   "metadata": {},
   "source": [
    "Generates `agents_berlin_trips.csv`"
   ]
  },
  {
   "cell_type": "code",
   "execution_count": 30,
   "id": "e8a64035d7043519",
   "metadata": {
    "collapsed": false,
    "ExecuteTime": {
     "end_time": "2023-09-14T22:52:49.344813135Z",
     "start_time": "2023-09-14T22:52:17.953407069Z"
    }
   },
   "outputs": [
    {
     "data": {
      "text/plain": "           executed_score   first_act_x   first_act_y first_act_type  income  \\\nperson                                                                         \n10000001        90.723000  4.603071e+06  5.705496e+06   home_77400.0  2659.0   \n1000001        116.991525  4.655520e+06  5.752325e+06   home_91800.0   826.0   \n100002101       92.331500  4.628160e+06  5.828612e+06   home_36000.0   826.0   \n100002901       82.349915  4.628056e+06  5.830651e+06   home_48600.0  1847.0   \n100004901      110.151148  4.625238e+06  5.824173e+06   home_54600.0  2070.0   \n...                   ...           ...           ...            ...     ...   \n99994101        95.497982  4.632244e+06  5.826463e+06   home_60600.0  4329.0   \n99995401       117.394194  4.631520e+06  5.826864e+06   home_83400.0  1142.0   \n99995901       132.648340  4.627167e+06  5.827323e+06   home_77400.0  2332.0   \n99996201       109.114665  4.628290e+06  5.829095e+06   home_62400.0  1630.0   \n99998601       132.314759  4.624512e+06  5.823676e+06   home_93600.0  2332.0   \n\n          subpopulation home-activity-zone       main_modes berlin_trip  \nperson                                                                   \n10000001         person        brandenburg            {car}          no  \n1000001          person        brandenburg        {bicycle}          no  \n100002101        person        brandenburg        {bicycle}         yes  \n100002901        person        brandenburg            {car}          no  \n100004901        person        brandenburg            {car}          no  \n...                 ...                ...              ...         ...  \n99994101         person        brandenburg        {bicycle}          no  \n99995401         person        brandenburg        {bicycle}          no  \n99995901         person        brandenburg  {walk, bicycle}          no  \n99996201         person        brandenburg            {car}         yes  \n99998601         person        brandenburg       {pt, walk}          no  \n\n[408681 rows x 9 columns]",
      "text/html": "<div>\n<style scoped>\n    .dataframe tbody tr th:only-of-type {\n        vertical-align: middle;\n    }\n\n    .dataframe tbody tr th {\n        vertical-align: top;\n    }\n\n    .dataframe thead th {\n        text-align: right;\n    }\n</style>\n<table border=\"1\" class=\"dataframe\">\n  <thead>\n    <tr style=\"text-align: right;\">\n      <th></th>\n      <th>executed_score</th>\n      <th>first_act_x</th>\n      <th>first_act_y</th>\n      <th>first_act_type</th>\n      <th>income</th>\n      <th>subpopulation</th>\n      <th>home-activity-zone</th>\n      <th>main_modes</th>\n      <th>berlin_trip</th>\n    </tr>\n    <tr>\n      <th>person</th>\n      <th></th>\n      <th></th>\n      <th></th>\n      <th></th>\n      <th></th>\n      <th></th>\n      <th></th>\n      <th></th>\n      <th></th>\n    </tr>\n  </thead>\n  <tbody>\n    <tr>\n      <th>10000001</th>\n      <td>90.723000</td>\n      <td>4.603071e+06</td>\n      <td>5.705496e+06</td>\n      <td>home_77400.0</td>\n      <td>2659.0</td>\n      <td>person</td>\n      <td>brandenburg</td>\n      <td>{car}</td>\n      <td>no</td>\n    </tr>\n    <tr>\n      <th>1000001</th>\n      <td>116.991525</td>\n      <td>4.655520e+06</td>\n      <td>5.752325e+06</td>\n      <td>home_91800.0</td>\n      <td>826.0</td>\n      <td>person</td>\n      <td>brandenburg</td>\n      <td>{bicycle}</td>\n      <td>no</td>\n    </tr>\n    <tr>\n      <th>100002101</th>\n      <td>92.331500</td>\n      <td>4.628160e+06</td>\n      <td>5.828612e+06</td>\n      <td>home_36000.0</td>\n      <td>826.0</td>\n      <td>person</td>\n      <td>brandenburg</td>\n      <td>{bicycle}</td>\n      <td>yes</td>\n    </tr>\n    <tr>\n      <th>100002901</th>\n      <td>82.349915</td>\n      <td>4.628056e+06</td>\n      <td>5.830651e+06</td>\n      <td>home_48600.0</td>\n      <td>1847.0</td>\n      <td>person</td>\n      <td>brandenburg</td>\n      <td>{car}</td>\n      <td>no</td>\n    </tr>\n    <tr>\n      <th>100004901</th>\n      <td>110.151148</td>\n      <td>4.625238e+06</td>\n      <td>5.824173e+06</td>\n      <td>home_54600.0</td>\n      <td>2070.0</td>\n      <td>person</td>\n      <td>brandenburg</td>\n      <td>{car}</td>\n      <td>no</td>\n    </tr>\n    <tr>\n      <th>...</th>\n      <td>...</td>\n      <td>...</td>\n      <td>...</td>\n      <td>...</td>\n      <td>...</td>\n      <td>...</td>\n      <td>...</td>\n      <td>...</td>\n      <td>...</td>\n    </tr>\n    <tr>\n      <th>99994101</th>\n      <td>95.497982</td>\n      <td>4.632244e+06</td>\n      <td>5.826463e+06</td>\n      <td>home_60600.0</td>\n      <td>4329.0</td>\n      <td>person</td>\n      <td>brandenburg</td>\n      <td>{bicycle}</td>\n      <td>no</td>\n    </tr>\n    <tr>\n      <th>99995401</th>\n      <td>117.394194</td>\n      <td>4.631520e+06</td>\n      <td>5.826864e+06</td>\n      <td>home_83400.0</td>\n      <td>1142.0</td>\n      <td>person</td>\n      <td>brandenburg</td>\n      <td>{bicycle}</td>\n      <td>no</td>\n    </tr>\n    <tr>\n      <th>99995901</th>\n      <td>132.648340</td>\n      <td>4.627167e+06</td>\n      <td>5.827323e+06</td>\n      <td>home_77400.0</td>\n      <td>2332.0</td>\n      <td>person</td>\n      <td>brandenburg</td>\n      <td>{walk, bicycle}</td>\n      <td>no</td>\n    </tr>\n    <tr>\n      <th>99996201</th>\n      <td>109.114665</td>\n      <td>4.628290e+06</td>\n      <td>5.829095e+06</td>\n      <td>home_62400.0</td>\n      <td>1630.0</td>\n      <td>person</td>\n      <td>brandenburg</td>\n      <td>{car}</td>\n      <td>yes</td>\n    </tr>\n    <tr>\n      <th>99998601</th>\n      <td>132.314759</td>\n      <td>4.624512e+06</td>\n      <td>5.823676e+06</td>\n      <td>home_93600.0</td>\n      <td>2332.0</td>\n      <td>person</td>\n      <td>brandenburg</td>\n      <td>{pt, walk}</td>\n      <td>no</td>\n    </tr>\n  </tbody>\n</table>\n<p>408681 rows × 9 columns</p>\n</div>"
     },
     "execution_count": 30,
     "metadata": {},
     "output_type": "execute_result"
    }
   ],
   "source": [
    "agents_berlin_trips = generate_agents_berlin_trips(agent_subpopulations.relevant, trips_berlinwise)\n",
    "agents_berlin_trips.to_csv(SCENARIOS_PATH / \"agents_berlin_trips.csv\", sep=\";\")\n",
    "agents_berlin_trips"
   ]
  },
  {
   "cell_type": "code",
   "execution_count": 33,
   "outputs": [
    {
     "data": {
      "text/plain": "        executed_score   first_act_x   first_act_y first_act_type  income  \\\n0            90.723000  4.603071e+06  5.705496e+06   home_77400.0  2659.0   \n1           116.991525  4.655520e+06  5.752325e+06   home_91800.0   826.0   \n2            92.331500  4.628160e+06  5.828612e+06   home_36000.0   826.0   \n3            82.349915  4.628056e+06  5.830651e+06   home_48600.0  1847.0   \n4           110.151148  4.625238e+06  5.824173e+06   home_54600.0  2070.0   \n...                ...           ...           ...            ...     ...   \n408676       95.497982  4.632244e+06  5.826463e+06   home_60600.0  4329.0   \n408677      117.394194  4.631520e+06  5.826864e+06   home_83400.0  1142.0   \n408678      132.648340  4.627167e+06  5.827323e+06   home_77400.0  2332.0   \n408679      109.114665  4.628290e+06  5.829095e+06   home_62400.0  1630.0   \n408680      132.314759  4.624512e+06  5.823676e+06   home_93600.0  2332.0   \n\n       subpopulation home-activity-zone           main_modes berlin_trip  \n0             person        brandenburg              {'car'}          no  \n1             person        brandenburg          {'bicycle'}          no  \n2             person        brandenburg          {'bicycle'}         yes  \n3             person        brandenburg              {'car'}          no  \n4             person        brandenburg              {'car'}          no  \n...              ...                ...                  ...         ...  \n408676        person        brandenburg          {'bicycle'}          no  \n408677        person        brandenburg          {'bicycle'}          no  \n408678        person        brandenburg  {'bicycle', 'walk'}          no  \n408679        person        brandenburg              {'car'}         yes  \n408680        person        brandenburg       {'walk', 'pt'}          no  \n\n[408681 rows x 9 columns]",
      "text/html": "<div>\n<style scoped>\n    .dataframe tbody tr th:only-of-type {\n        vertical-align: middle;\n    }\n\n    .dataframe tbody tr th {\n        vertical-align: top;\n    }\n\n    .dataframe thead th {\n        text-align: right;\n    }\n</style>\n<table border=\"1\" class=\"dataframe\">\n  <thead>\n    <tr style=\"text-align: right;\">\n      <th></th>\n      <th>executed_score</th>\n      <th>first_act_x</th>\n      <th>first_act_y</th>\n      <th>first_act_type</th>\n      <th>income</th>\n      <th>subpopulation</th>\n      <th>home-activity-zone</th>\n      <th>main_modes</th>\n      <th>berlin_trip</th>\n    </tr>\n  </thead>\n  <tbody>\n    <tr>\n      <th>0</th>\n      <td>90.723000</td>\n      <td>4.603071e+06</td>\n      <td>5.705496e+06</td>\n      <td>home_77400.0</td>\n      <td>2659.0</td>\n      <td>person</td>\n      <td>brandenburg</td>\n      <td>{'car'}</td>\n      <td>no</td>\n    </tr>\n    <tr>\n      <th>1</th>\n      <td>116.991525</td>\n      <td>4.655520e+06</td>\n      <td>5.752325e+06</td>\n      <td>home_91800.0</td>\n      <td>826.0</td>\n      <td>person</td>\n      <td>brandenburg</td>\n      <td>{'bicycle'}</td>\n      <td>no</td>\n    </tr>\n    <tr>\n      <th>2</th>\n      <td>92.331500</td>\n      <td>4.628160e+06</td>\n      <td>5.828612e+06</td>\n      <td>home_36000.0</td>\n      <td>826.0</td>\n      <td>person</td>\n      <td>brandenburg</td>\n      <td>{'bicycle'}</td>\n      <td>yes</td>\n    </tr>\n    <tr>\n      <th>3</th>\n      <td>82.349915</td>\n      <td>4.628056e+06</td>\n      <td>5.830651e+06</td>\n      <td>home_48600.0</td>\n      <td>1847.0</td>\n      <td>person</td>\n      <td>brandenburg</td>\n      <td>{'car'}</td>\n      <td>no</td>\n    </tr>\n    <tr>\n      <th>4</th>\n      <td>110.151148</td>\n      <td>4.625238e+06</td>\n      <td>5.824173e+06</td>\n      <td>home_54600.0</td>\n      <td>2070.0</td>\n      <td>person</td>\n      <td>brandenburg</td>\n      <td>{'car'}</td>\n      <td>no</td>\n    </tr>\n    <tr>\n      <th>...</th>\n      <td>...</td>\n      <td>...</td>\n      <td>...</td>\n      <td>...</td>\n      <td>...</td>\n      <td>...</td>\n      <td>...</td>\n      <td>...</td>\n      <td>...</td>\n    </tr>\n    <tr>\n      <th>408676</th>\n      <td>95.497982</td>\n      <td>4.632244e+06</td>\n      <td>5.826463e+06</td>\n      <td>home_60600.0</td>\n      <td>4329.0</td>\n      <td>person</td>\n      <td>brandenburg</td>\n      <td>{'bicycle'}</td>\n      <td>no</td>\n    </tr>\n    <tr>\n      <th>408677</th>\n      <td>117.394194</td>\n      <td>4.631520e+06</td>\n      <td>5.826864e+06</td>\n      <td>home_83400.0</td>\n      <td>1142.0</td>\n      <td>person</td>\n      <td>brandenburg</td>\n      <td>{'bicycle'}</td>\n      <td>no</td>\n    </tr>\n    <tr>\n      <th>408678</th>\n      <td>132.648340</td>\n      <td>4.627167e+06</td>\n      <td>5.827323e+06</td>\n      <td>home_77400.0</td>\n      <td>2332.0</td>\n      <td>person</td>\n      <td>brandenburg</td>\n      <td>{'bicycle', 'walk'}</td>\n      <td>no</td>\n    </tr>\n    <tr>\n      <th>408679</th>\n      <td>109.114665</td>\n      <td>4.628290e+06</td>\n      <td>5.829095e+06</td>\n      <td>home_62400.0</td>\n      <td>1630.0</td>\n      <td>person</td>\n      <td>brandenburg</td>\n      <td>{'car'}</td>\n      <td>yes</td>\n    </tr>\n    <tr>\n      <th>408680</th>\n      <td>132.314759</td>\n      <td>4.624512e+06</td>\n      <td>5.823676e+06</td>\n      <td>home_93600.0</td>\n      <td>2332.0</td>\n      <td>person</td>\n      <td>brandenburg</td>\n      <td>{'walk', 'pt'}</td>\n      <td>no</td>\n    </tr>\n  </tbody>\n</table>\n<p>408681 rows × 9 columns</p>\n</div>"
     },
     "execution_count": 33,
     "metadata": {},
     "output_type": "execute_result"
    }
   ],
   "source": [
    "import pandas as pd\n",
    "\n",
    "agents_berlin_trips_bak = pd.read_csv(SCENARIOS_PATH / \"agents_berlin_trips.csv.bak\", sep=\";\",\n",
    "                                      dtype={\"first_act_type\": \"category\",\n",
    "                                             \"subpopulation\": \"category\",\n",
    "                                             \"home-activity-zone\": \"category\",\n",
    "                                             })\n",
    "agents_berlin_trips_bak"
   ],
   "metadata": {
    "collapsed": false,
    "ExecuteTime": {
     "end_time": "2023-09-14T23:04:10.677962005Z",
     "start_time": "2023-09-14T23:04:09.882210289Z"
    }
   },
   "id": "6869681860a1c7f4"
  },
  {
   "cell_type": "code",
   "execution_count": 37,
   "outputs": [],
   "source": [
    "agents_berlin_trips_bak.index = agents_berlin_trips.index"
   ],
   "metadata": {
    "collapsed": false,
    "ExecuteTime": {
     "end_time": "2023-09-14T23:06:07.114448483Z",
     "start_time": "2023-09-14T23:06:06.691191190Z"
    }
   },
   "id": "4b945261992af22f"
  },
  {
   "cell_type": "code",
   "execution_count": 38,
   "outputs": [
    {
     "data": {
      "text/plain": "           executed_score   first_act_x   first_act_y first_act_type  income  \\\nperson                                                                         \n149744101     -247.247647  4.573301e+06  5.826848e+06   home_66600.0  1847.0   \n29806301      -248.806012  4.605774e+06  5.847958e+06   home_68400.0  1399.0   \n4400601       -276.631583  4.601988e+06  5.806979e+06   home_45600.0  2070.0   \n50385901      -328.422616  4.610928e+06  5.781649e+06   home_40800.0  2070.0   \n85932301      -272.815022  4.573582e+06  5.809714e+06   home_48000.0  2659.0   \n87771201      -267.620696  4.572338e+06  5.808376e+06   home_51600.0  2070.0   \n92958001      -261.604150  4.568177e+06  5.810418e+06   home_58200.0  3156.0   \n93080801      -246.075311  4.576525e+06  5.805282e+06   home_71400.0  1399.0   \n93203501      -261.017850  4.569940e+06  5.811894e+06   home_57000.0  1630.0   \n\n          subpopulation home-activity-zone main_modes berlin_trip  \nperson                                                             \n149744101        person        brandenburg         {}         yes  \n29806301         person        brandenburg         {}         yes  \n4400601          person        brandenburg         {}         yes  \n50385901         person        brandenburg     {walk}         yes  \n85932301         person        brandenburg         {}         yes  \n87771201         person        brandenburg         {}         yes  \n92958001         person        brandenburg     {walk}         yes  \n93080801         person        brandenburg     {walk}         yes  \n93203501         person        brandenburg         {}         yes  ",
      "text/html": "<div>\n<style scoped>\n    .dataframe tbody tr th:only-of-type {\n        vertical-align: middle;\n    }\n\n    .dataframe tbody tr th {\n        vertical-align: top;\n    }\n\n    .dataframe thead th {\n        text-align: right;\n    }\n</style>\n<table border=\"1\" class=\"dataframe\">\n  <thead>\n    <tr style=\"text-align: right;\">\n      <th></th>\n      <th>executed_score</th>\n      <th>first_act_x</th>\n      <th>first_act_y</th>\n      <th>first_act_type</th>\n      <th>income</th>\n      <th>subpopulation</th>\n      <th>home-activity-zone</th>\n      <th>main_modes</th>\n      <th>berlin_trip</th>\n    </tr>\n    <tr>\n      <th>person</th>\n      <th></th>\n      <th></th>\n      <th></th>\n      <th></th>\n      <th></th>\n      <th></th>\n      <th></th>\n      <th></th>\n      <th></th>\n    </tr>\n  </thead>\n  <tbody>\n    <tr>\n      <th>149744101</th>\n      <td>-247.247647</td>\n      <td>4.573301e+06</td>\n      <td>5.826848e+06</td>\n      <td>home_66600.0</td>\n      <td>1847.0</td>\n      <td>person</td>\n      <td>brandenburg</td>\n      <td>{}</td>\n      <td>yes</td>\n    </tr>\n    <tr>\n      <th>29806301</th>\n      <td>-248.806012</td>\n      <td>4.605774e+06</td>\n      <td>5.847958e+06</td>\n      <td>home_68400.0</td>\n      <td>1399.0</td>\n      <td>person</td>\n      <td>brandenburg</td>\n      <td>{}</td>\n      <td>yes</td>\n    </tr>\n    <tr>\n      <th>4400601</th>\n      <td>-276.631583</td>\n      <td>4.601988e+06</td>\n      <td>5.806979e+06</td>\n      <td>home_45600.0</td>\n      <td>2070.0</td>\n      <td>person</td>\n      <td>brandenburg</td>\n      <td>{}</td>\n      <td>yes</td>\n    </tr>\n    <tr>\n      <th>50385901</th>\n      <td>-328.422616</td>\n      <td>4.610928e+06</td>\n      <td>5.781649e+06</td>\n      <td>home_40800.0</td>\n      <td>2070.0</td>\n      <td>person</td>\n      <td>brandenburg</td>\n      <td>{walk}</td>\n      <td>yes</td>\n    </tr>\n    <tr>\n      <th>85932301</th>\n      <td>-272.815022</td>\n      <td>4.573582e+06</td>\n      <td>5.809714e+06</td>\n      <td>home_48000.0</td>\n      <td>2659.0</td>\n      <td>person</td>\n      <td>brandenburg</td>\n      <td>{}</td>\n      <td>yes</td>\n    </tr>\n    <tr>\n      <th>87771201</th>\n      <td>-267.620696</td>\n      <td>4.572338e+06</td>\n      <td>5.808376e+06</td>\n      <td>home_51600.0</td>\n      <td>2070.0</td>\n      <td>person</td>\n      <td>brandenburg</td>\n      <td>{}</td>\n      <td>yes</td>\n    </tr>\n    <tr>\n      <th>92958001</th>\n      <td>-261.604150</td>\n      <td>4.568177e+06</td>\n      <td>5.810418e+06</td>\n      <td>home_58200.0</td>\n      <td>3156.0</td>\n      <td>person</td>\n      <td>brandenburg</td>\n      <td>{walk}</td>\n      <td>yes</td>\n    </tr>\n    <tr>\n      <th>93080801</th>\n      <td>-246.075311</td>\n      <td>4.576525e+06</td>\n      <td>5.805282e+06</td>\n      <td>home_71400.0</td>\n      <td>1399.0</td>\n      <td>person</td>\n      <td>brandenburg</td>\n      <td>{walk}</td>\n      <td>yes</td>\n    </tr>\n    <tr>\n      <th>93203501</th>\n      <td>-261.017850</td>\n      <td>4.569940e+06</td>\n      <td>5.811894e+06</td>\n      <td>home_57000.0</td>\n      <td>1630.0</td>\n      <td>person</td>\n      <td>brandenburg</td>\n      <td>{}</td>\n      <td>yes</td>\n    </tr>\n  </tbody>\n</table>\n</div>"
     },
     "execution_count": 38,
     "metadata": {},
     "output_type": "execute_result"
    }
   ],
   "source": [
    "agents_berlin_trips[agents_berlin_trips[\"berlin_trip\"] != agents_berlin_trips_bak[\"berlin_trip\"]]"
   ],
   "metadata": {
    "collapsed": false,
    "ExecuteTime": {
     "end_time": "2023-09-14T23:06:10.033550953Z",
     "start_time": "2023-09-14T23:06:09.944656681Z"
    }
   },
   "id": "f9cf696999699cde"
  },
  {
   "cell_type": "markdown",
   "id": "56f92553",
   "metadata": {},
   "source": [
    "Listet agents, die in der `home-activity-zone` berlin sind, aber gar keine trips in berlin haben. Hauptsächlich immobile Personen, aber auch 9 Grenzfälle"
   ]
  },
  {
   "cell_type": "code",
   "execution_count": 28,
   "id": "262b2027b4091d66",
   "metadata": {
    "ExecuteTime": {
     "end_time": "2023-09-08T16:32:38.681294777Z",
     "start_time": "2023-09-08T16:32:38.409295172Z"
    },
    "collapsed": false
   },
   "outputs": [
    {
     "data": {
      "text/html": [
       "<div>\n",
       "<style scoped>\n",
       "    .dataframe tbody tr th:only-of-type {\n",
       "        vertical-align: middle;\n",
       "    }\n",
       "\n",
       "    .dataframe tbody tr th {\n",
       "        vertical-align: top;\n",
       "    }\n",
       "\n",
       "    .dataframe thead th {\n",
       "        text-align: right;\n",
       "    }\n",
       "</style>\n",
       "<table border=\"1\" class=\"dataframe\">\n",
       "  <thead>\n",
       "    <tr style=\"text-align: right;\">\n",
       "      <th></th>\n",
       "      <th>executed_score</th>\n",
       "      <th>first_act_x</th>\n",
       "      <th>first_act_y</th>\n",
       "      <th>first_act_type</th>\n",
       "      <th>income</th>\n",
       "      <th>subpopulation</th>\n",
       "      <th>home-activity-zone</th>\n",
       "      <th>main_modes</th>\n",
       "      <th>berlin_trip</th>\n",
       "    </tr>\n",
       "    <tr>\n",
       "      <th>person</th>\n",
       "      <th></th>\n",
       "      <th></th>\n",
       "      <th></th>\n",
       "      <th></th>\n",
       "      <th></th>\n",
       "      <th></th>\n",
       "      <th></th>\n",
       "      <th></th>\n",
       "      <th></th>\n",
       "    </tr>\n",
       "  </thead>\n",
       "  <tbody>\n",
       "    <tr>\n",
       "      <th>301894401</th>\n",
       "      <td>142.648362</td>\n",
       "      <td>4.590714e+06</td>\n",
       "      <td>5.809078e+06</td>\n",
       "      <td>home_94200.0</td>\n",
       "      <td>4329.0</td>\n",
       "      <td>person</td>\n",
       "      <td>berlin</td>\n",
       "      <td>{walk}</td>\n",
       "      <td>no</td>\n",
       "    </tr>\n",
       "    <tr>\n",
       "      <th>318691801</th>\n",
       "      <td>132.433802</td>\n",
       "      <td>4.583942e+06</td>\n",
       "      <td>5.810458e+06</td>\n",
       "      <td>home_73800.0</td>\n",
       "      <td>1630.0</td>\n",
       "      <td>person</td>\n",
       "      <td>berlin</td>\n",
       "      <td>{bicycle}</td>\n",
       "      <td>no</td>\n",
       "    </tr>\n",
       "    <tr>\n",
       "      <th>347439501</th>\n",
       "      <td>140.784619</td>\n",
       "      <td>4.578045e+06</td>\n",
       "      <td>5.826504e+06</td>\n",
       "      <td>home_94800.0</td>\n",
       "      <td>1142.0</td>\n",
       "      <td>person</td>\n",
       "      <td>berlin</td>\n",
       "      <td>{walk}</td>\n",
       "      <td>no</td>\n",
       "    </tr>\n",
       "    <tr>\n",
       "      <th>355350901</th>\n",
       "      <td>100.210245</td>\n",
       "      <td>4.610333e+06</td>\n",
       "      <td>5.823469e+06</td>\n",
       "      <td>home_47400.0</td>\n",
       "      <td>1847.0</td>\n",
       "      <td>person</td>\n",
       "      <td>berlin</td>\n",
       "      <td>{car}</td>\n",
       "      <td>no</td>\n",
       "    </tr>\n",
       "    <tr>\n",
       "      <th>374525501</th>\n",
       "      <td>141.881706</td>\n",
       "      <td>4.577891e+06</td>\n",
       "      <td>5.825958e+06</td>\n",
       "      <td>home_94800.0</td>\n",
       "      <td>1630.0</td>\n",
       "      <td>person</td>\n",
       "      <td>berlin</td>\n",
       "      <td>{walk}</td>\n",
       "      <td>no</td>\n",
       "    </tr>\n",
       "    <tr>\n",
       "      <th>394258901</th>\n",
       "      <td>136.727885</td>\n",
       "      <td>4.609866e+06</td>\n",
       "      <td>5.805978e+06</td>\n",
       "      <td>home_95400.0</td>\n",
       "      <td>1630.0</td>\n",
       "      <td>person</td>\n",
       "      <td>berlin</td>\n",
       "      <td>{bicycle}</td>\n",
       "      <td>no</td>\n",
       "    </tr>\n",
       "    <tr>\n",
       "      <th>404370501</th>\n",
       "      <td>141.278379</td>\n",
       "      <td>4.577898e+06</td>\n",
       "      <td>5.825567e+06</td>\n",
       "      <td>home_96000.0</td>\n",
       "      <td>1399.0</td>\n",
       "      <td>person</td>\n",
       "      <td>berlin</td>\n",
       "      <td>{walk}</td>\n",
       "      <td>no</td>\n",
       "    </tr>\n",
       "    <tr>\n",
       "      <th>414453401</th>\n",
       "      <td>136.676207</td>\n",
       "      <td>4.610516e+06</td>\n",
       "      <td>5.806352e+06</td>\n",
       "      <td>home_91200.0</td>\n",
       "      <td>2332.0</td>\n",
       "      <td>person</td>\n",
       "      <td>berlin</td>\n",
       "      <td>{bicycle}</td>\n",
       "      <td>no</td>\n",
       "    </tr>\n",
       "    <tr>\n",
       "      <th>440394401</th>\n",
       "      <td>133.156617</td>\n",
       "      <td>4.612054e+06</td>\n",
       "      <td>5.805922e+06</td>\n",
       "      <td>home_94200.0</td>\n",
       "      <td>1142.0</td>\n",
       "      <td>person</td>\n",
       "      <td>berlin</td>\n",
       "      <td>{bicycle}</td>\n",
       "      <td>no</td>\n",
       "    </tr>\n",
       "  </tbody>\n",
       "</table>\n",
       "</div>"
      ],
      "text/plain": [
       "           executed_score   first_act_x   first_act_y first_act_type  income  \\\n",
       "person                                                                         \n",
       "301894401      142.648362  4.590714e+06  5.809078e+06   home_94200.0  4329.0   \n",
       "318691801      132.433802  4.583942e+06  5.810458e+06   home_73800.0  1630.0   \n",
       "347439501      140.784619  4.578045e+06  5.826504e+06   home_94800.0  1142.0   \n",
       "355350901      100.210245  4.610333e+06  5.823469e+06   home_47400.0  1847.0   \n",
       "374525501      141.881706  4.577891e+06  5.825958e+06   home_94800.0  1630.0   \n",
       "394258901      136.727885  4.609866e+06  5.805978e+06   home_95400.0  1630.0   \n",
       "404370501      141.278379  4.577898e+06  5.825567e+06   home_96000.0  1399.0   \n",
       "414453401      136.676207  4.610516e+06  5.806352e+06   home_91200.0  2332.0   \n",
       "440394401      133.156617  4.612054e+06  5.805922e+06   home_94200.0  1142.0   \n",
       "\n",
       "          subpopulation home-activity-zone main_modes berlin_trip  \n",
       "person                                                             \n",
       "301894401        person             berlin     {walk}          no  \n",
       "318691801        person             berlin  {bicycle}          no  \n",
       "347439501        person             berlin     {walk}          no  \n",
       "355350901        person             berlin      {car}          no  \n",
       "374525501        person             berlin     {walk}          no  \n",
       "394258901        person             berlin  {bicycle}          no  \n",
       "404370501        person             berlin     {walk}          no  \n",
       "414453401        person             berlin  {bicycle}          no  \n",
       "440394401        person             berlin  {bicycle}          no  "
      ]
     },
     "execution_count": 28,
     "metadata": {},
     "output_type": "execute_result"
    }
   ],
   "source": [
    "# sanity check\n",
    "berlin_persons_no_berlin_trips = agents_berlin_trips[\n",
    "    (agents_berlin_trips[\"home-activity-zone\"] == \"berlin\") & (agents_berlin_trips[\"berlin_trip\"] == \"no\") & (\n",
    "            agents_berlin_trips[\"main_modes\"] != set())]\n",
    "berlin_persons_no_berlin_trips.to_csv(SCENARIOS_PATH / \"berlin_persons_no_berlin_trips.csv\", sep=\";\")\n",
    "berlin_persons_no_berlin_trips"
   ]
  },
  {
   "cell_type": "code",
   "execution_count": 33,
   "id": "b10485e4",
   "metadata": {},
   "outputs": [
    {
     "data": {
      "text/html": [
       "<div>\n",
       "<style scoped>\n",
       "    .dataframe tbody tr th:only-of-type {\n",
       "        vertical-align: middle;\n",
       "    }\n",
       "\n",
       "    .dataframe tbody tr th {\n",
       "        vertical-align: top;\n",
       "    }\n",
       "\n",
       "    .dataframe thead th {\n",
       "        text-align: right;\n",
       "    }\n",
       "</style>\n",
       "<table border=\"1\" class=\"dataframe\">\n",
       "  <thead>\n",
       "    <tr style=\"text-align: right;\">\n",
       "      <th></th>\n",
       "      <th>executed_score</th>\n",
       "      <th>first_act_x</th>\n",
       "      <th>first_act_y</th>\n",
       "      <th>first_act_type</th>\n",
       "      <th>income</th>\n",
       "      <th>subpopulation</th>\n",
       "      <th>home-activity-zone</th>\n",
       "      <th>main_modes</th>\n",
       "      <th>berlin_trip</th>\n",
       "    </tr>\n",
       "    <tr>\n",
       "      <th>person</th>\n",
       "      <th></th>\n",
       "      <th></th>\n",
       "      <th></th>\n",
       "      <th></th>\n",
       "      <th></th>\n",
       "      <th></th>\n",
       "      <th></th>\n",
       "      <th></th>\n",
       "      <th></th>\n",
       "    </tr>\n",
       "  </thead>\n",
       "  <tbody>\n",
       "    <tr>\n",
       "      <th>100009201</th>\n",
       "      <td>0.0</td>\n",
       "      <td>4.624434e+06</td>\n",
       "      <td>5.823701e+06</td>\n",
       "      <td>home_86400.0</td>\n",
       "      <td>4329.0</td>\n",
       "      <td>person</td>\n",
       "      <td>brandenburg</td>\n",
       "      <td>{}</td>\n",
       "      <td>no</td>\n",
       "    </tr>\n",
       "    <tr>\n",
       "      <th>100035201</th>\n",
       "      <td>0.0</td>\n",
       "      <td>4.627736e+06</td>\n",
       "      <td>5.829616e+06</td>\n",
       "      <td>home_86400.0</td>\n",
       "      <td>2659.0</td>\n",
       "      <td>person</td>\n",
       "      <td>brandenburg</td>\n",
       "      <td>{}</td>\n",
       "      <td>no</td>\n",
       "    </tr>\n",
       "    <tr>\n",
       "      <th>100074001</th>\n",
       "      <td>0.0</td>\n",
       "      <td>4.628630e+06</td>\n",
       "      <td>5.831094e+06</td>\n",
       "      <td>home_86400.0</td>\n",
       "      <td>1399.0</td>\n",
       "      <td>person</td>\n",
       "      <td>brandenburg</td>\n",
       "      <td>{}</td>\n",
       "      <td>no</td>\n",
       "    </tr>\n",
       "    <tr>\n",
       "      <th>100120401</th>\n",
       "      <td>0.0</td>\n",
       "      <td>4.627844e+06</td>\n",
       "      <td>5.827000e+06</td>\n",
       "      <td>home_86400.0</td>\n",
       "      <td>1399.0</td>\n",
       "      <td>person</td>\n",
       "      <td>brandenburg</td>\n",
       "      <td>{}</td>\n",
       "      <td>no</td>\n",
       "    </tr>\n",
       "    <tr>\n",
       "      <th>100135501</th>\n",
       "      <td>0.0</td>\n",
       "      <td>4.627831e+06</td>\n",
       "      <td>5.829134e+06</td>\n",
       "      <td>home_86400.0</td>\n",
       "      <td>1630.0</td>\n",
       "      <td>person</td>\n",
       "      <td>brandenburg</td>\n",
       "      <td>{}</td>\n",
       "      <td>no</td>\n",
       "    </tr>\n",
       "    <tr>\n",
       "      <th>...</th>\n",
       "      <td>...</td>\n",
       "      <td>...</td>\n",
       "      <td>...</td>\n",
       "      <td>...</td>\n",
       "      <td>...</td>\n",
       "      <td>...</td>\n",
       "      <td>...</td>\n",
       "      <td>...</td>\n",
       "      <td>...</td>\n",
       "    </tr>\n",
       "    <tr>\n",
       "      <th>99819301</th>\n",
       "      <td>0.0</td>\n",
       "      <td>4.627360e+06</td>\n",
       "      <td>5.827827e+06</td>\n",
       "      <td>home_86400.0</td>\n",
       "      <td>2659.0</td>\n",
       "      <td>person</td>\n",
       "      <td>brandenburg</td>\n",
       "      <td>{}</td>\n",
       "      <td>no</td>\n",
       "    </tr>\n",
       "    <tr>\n",
       "      <th>99822901</th>\n",
       "      <td>0.0</td>\n",
       "      <td>4.627475e+06</td>\n",
       "      <td>5.829040e+06</td>\n",
       "      <td>home_86400.0</td>\n",
       "      <td>2332.0</td>\n",
       "      <td>person</td>\n",
       "      <td>brandenburg</td>\n",
       "      <td>{}</td>\n",
       "      <td>no</td>\n",
       "    </tr>\n",
       "    <tr>\n",
       "      <th>99870001</th>\n",
       "      <td>0.0</td>\n",
       "      <td>4.628073e+06</td>\n",
       "      <td>5.828305e+06</td>\n",
       "      <td>home_86400.0</td>\n",
       "      <td>3156.0</td>\n",
       "      <td>person</td>\n",
       "      <td>brandenburg</td>\n",
       "      <td>{}</td>\n",
       "      <td>no</td>\n",
       "    </tr>\n",
       "    <tr>\n",
       "      <th>99926701</th>\n",
       "      <td>0.0</td>\n",
       "      <td>4.629286e+06</td>\n",
       "      <td>5.830302e+06</td>\n",
       "      <td>home_86400.0</td>\n",
       "      <td>1142.0</td>\n",
       "      <td>person</td>\n",
       "      <td>brandenburg</td>\n",
       "      <td>{}</td>\n",
       "      <td>no</td>\n",
       "    </tr>\n",
       "    <tr>\n",
       "      <th>9999301</th>\n",
       "      <td>0.0</td>\n",
       "      <td>4.605192e+06</td>\n",
       "      <td>5.698220e+06</td>\n",
       "      <td>home_86400.0</td>\n",
       "      <td>1142.0</td>\n",
       "      <td>person</td>\n",
       "      <td>brandenburg</td>\n",
       "      <td>{}</td>\n",
       "      <td>no</td>\n",
       "    </tr>\n",
       "  </tbody>\n",
       "</table>\n",
       "<p>9770 rows × 9 columns</p>\n",
       "</div>"
      ],
      "text/plain": [
       "           executed_score   first_act_x   first_act_y first_act_type  income  \\\n",
       "person                                                                         \n",
       "100009201             0.0  4.624434e+06  5.823701e+06   home_86400.0  4329.0   \n",
       "100035201             0.0  4.627736e+06  5.829616e+06   home_86400.0  2659.0   \n",
       "100074001             0.0  4.628630e+06  5.831094e+06   home_86400.0  1399.0   \n",
       "100120401             0.0  4.627844e+06  5.827000e+06   home_86400.0  1399.0   \n",
       "100135501             0.0  4.627831e+06  5.829134e+06   home_86400.0  1630.0   \n",
       "...                   ...           ...           ...            ...     ...   \n",
       "99819301              0.0  4.627360e+06  5.827827e+06   home_86400.0  2659.0   \n",
       "99822901              0.0  4.627475e+06  5.829040e+06   home_86400.0  2332.0   \n",
       "99870001              0.0  4.628073e+06  5.828305e+06   home_86400.0  3156.0   \n",
       "99926701              0.0  4.629286e+06  5.830302e+06   home_86400.0  1142.0   \n",
       "9999301               0.0  4.605192e+06  5.698220e+06   home_86400.0  1142.0   \n",
       "\n",
       "          subpopulation home-activity-zone main_modes berlin_trip  \n",
       "person                                                             \n",
       "100009201        person        brandenburg         {}          no  \n",
       "100035201        person        brandenburg         {}          no  \n",
       "100074001        person        brandenburg         {}          no  \n",
       "100120401        person        brandenburg         {}          no  \n",
       "100135501        person        brandenburg         {}          no  \n",
       "...                 ...                ...        ...         ...  \n",
       "99819301         person        brandenburg         {}          no  \n",
       "99822901         person        brandenburg         {}          no  \n",
       "99870001         person        brandenburg         {}          no  \n",
       "99926701         person        brandenburg         {}          no  \n",
       "9999301          person        brandenburg         {}          no  \n",
       "\n",
       "[9770 rows x 9 columns]"
      ]
     },
     "execution_count": 33,
     "metadata": {},
     "output_type": "execute_result"
    }
   ],
   "source": [
    "immobile_persons = berlin_persons_no_berlin_trips = agents_berlin_trips[\n",
    "    (agents_berlin_trips[\"main_modes\"] == set()) & (agents_berlin_trips[\"home-activity-zone\"] == \"brandenburg\")]\n",
    "immobile_persons"
   ]
  }
 ],
 "metadata": {
  "kernelspec": {
   "display_name": "Python 3",
   "language": "python",
   "name": "python3"
  },
  "language_info": {
   "codemirror_mode": {
    "name": "ipython",
    "version": 3
   },
   "file_extension": ".py",
   "mimetype": "text/x-python",
   "name": "python",
   "nbconvert_exporter": "python",
   "pygments_lexer": "ipython3",
   "version": "3.10.12"
  }
 },
 "nbformat": 4,
 "nbformat_minor": 5
}
